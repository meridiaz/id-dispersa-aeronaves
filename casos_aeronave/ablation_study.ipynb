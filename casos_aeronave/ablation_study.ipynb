{
 "cells": [
  {
   "cell_type": "code",
   "execution_count": 197,
   "metadata": {},
   "outputs": [],
   "source": [
    "import numpy as np\n",
    "import pysindy as ps\n",
    "from scipy.integrate import odeint, solve_ivp\n",
    "#import eprint\n",
    "\n",
    "import matplotlib.pyplot as plt\n",
    "import math\n",
    "\n",
    "import utils\n",
    "import warnings\n",
    "warnings.filterwarnings(\"ignore\", category=FutureWarning)\n",
    "\n",
    "import time"
   ]
  },
  {
   "cell_type": "markdown",
   "metadata": {},
   "source": [
    "## Variables globales"
   ]
  },
  {
   "cell_type": "code",
   "execution_count": 198,
   "id": "201fcacc",
   "metadata": {},
   "outputs": [],
   "source": [
    "#definición de las variables generales\n",
    "n = 10000\n",
    "deltat = 0.001\n",
    "t = np.arange(0, int(n*deltat), deltat)\n",
    "\n",
    "N_SIMS = 10\n",
    "N_TRAYEC = 25"
   ]
  },
  {
   "cell_type": "code",
   "execution_count": 199,
   "id": "34c0ea14",
   "metadata": {},
   "outputs": [],
   "source": [
    "# definicion de parametros fisicos y aerondinamicos del cohete\n",
    "m = 200\n",
    "W = m*9.81\n",
    "vx0 = 10\n",
    "S = 14.7\n",
    "cd0 = 0.03\n",
    "k = 0.073\n"
   ]
  },
  {
   "cell_type": "markdown",
   "metadata": {},
   "source": [
    "# Caso A: Planeador"
   ]
  },
  {
   "cell_type": "code",
   "execution_count": 200,
   "metadata": {},
   "outputs": [],
   "source": [
    "def real_coefs_mat(lib):\n",
    "    data = [np.ones((n, 4))]\n",
    "    lib = lib.fit(data[0])\n",
    "    n_features = lib.n_output_features_\n",
    "    list_names = lib.get_feature_names(['gamma', 'x', 'h', 'v'])\n",
    "\n",
    "    mat = np.zeros((data[0].shape[1], n_features))\n",
    "    mat[1, list_names.index('v*cos(gamma)')] = 1\n",
    "    mat[2, list_names.index('+v*sen(gamma)')] = 1\n",
    "\n",
    "    return mat\n"
   ]
  },
  {
   "cell_type": "code",
   "execution_count": 201,
   "metadata": {},
   "outputs": [
    {
     "name": "stdout",
     "output_type": "stream",
     "text": [
      "gamma' = 0.0000000000\n",
      "x' = 1.0000000000 v*cos(gamma)\n",
      "h' = 1.0000000000 +v*sen(gamma)\n",
      "v' = 0.0000000000\n"
     ]
    }
   ],
   "source": [
    "x0 = [20, 200, 2000, 100]\n",
    "\n",
    "t_sims = np.zeros(N_SIMS)\n",
    "error_A = np.zeros(N_SIMS)\n",
    "\n",
    "for i in range(N_SIMS):\n",
    "    t_start = time.time()\n",
    "    mod_class = utils.Model()\n",
    "    mod_class.eval(utils.casoA, N_TRAYEC, t, [None], x0, adim=False, \n",
    "                mod=utils.Model_params(feature_list=['gamma', 'x', 'h', 'v'], lib=utils.custom_ecs_A()))\n",
    "    _ = mod_class.error_trayec(t)\n",
    "    t_sims[i] = time.time() - t_start\n",
    "\n",
    "    error_A[i] = np.mean((real_coefs_mat(utils.custom_ecs_A())-mod_class.model_sindy.coefficients())**2)\n",
    "\n",
    "times_A = t_sims.mean()\n",
    "error_A = np.median(error_A)\n",
    "mod_class.model_sindy.print(lhs=[\"gamma'\", \"x'\", \"h'\", \"v'\"], precision=10)\n"
   ]
  },
  {
   "cell_type": "markdown",
   "metadata": {},
   "source": [
    "# Caso B: Vuelo rectilíneo y simétrico: T cte y V variable y grande"
   ]
  },
  {
   "cell_type": "code",
   "execution_count": 202,
   "metadata": {},
   "outputs": [
    {
     "name": "stdout",
     "output_type": "stream",
     "text": [
      "Valor de los coeficientes: A=0.0013505625, C=12\n"
     ]
    }
   ],
   "source": [
    "T0 = 12 # T/m\n",
    "A = 0.5*1.225*cd0*S/m\n",
    "B = k*9.81**2/(0.5*1.225*S/m)\n",
    "print(f\"Valor de los coeficientes: A={A}, C={T0}\")"
   ]
  },
  {
   "cell_type": "code",
   "execution_count": 203,
   "metadata": {},
   "outputs": [
    {
     "name": "stderr",
     "output_type": "stream",
     "text": [
      "<ipython-input-203-00f05b26038a>:13: VisibleDeprecationWarning: Creating an ndarray from ragged nested sequences (which is a list-or-tuple of lists-or-tuples-or ndarrays with different lengths or shapes) is deprecated. If you meant to do this, you must specify 'dtype=object' when creating the ndarray\n",
      "  real_coefs = np.array([-A*mod_class.maxi, 0, T0/mod_class.maxi])\n",
      "<ipython-input-203-00f05b26038a>:13: VisibleDeprecationWarning: Creating an ndarray from ragged nested sequences (which is a list-or-tuple of lists-or-tuples-or ndarrays with different lengths or shapes) is deprecated. If you meant to do this, you must specify 'dtype=object' when creating the ndarray\n",
      "  real_coefs = np.array([-A*mod_class.maxi, 0, T0/mod_class.maxi])\n",
      "<ipython-input-203-00f05b26038a>:13: VisibleDeprecationWarning: Creating an ndarray from ragged nested sequences (which is a list-or-tuple of lists-or-tuples-or ndarrays with different lengths or shapes) is deprecated. If you meant to do this, you must specify 'dtype=object' when creating the ndarray\n",
      "  real_coefs = np.array([-A*mod_class.maxi, 0, T0/mod_class.maxi])\n",
      "<ipython-input-203-00f05b26038a>:13: VisibleDeprecationWarning: Creating an ndarray from ragged nested sequences (which is a list-or-tuple of lists-or-tuples-or ndarrays with different lengths or shapes) is deprecated. If you meant to do this, you must specify 'dtype=object' when creating the ndarray\n",
      "  real_coefs = np.array([-A*mod_class.maxi, 0, T0/mod_class.maxi])\n",
      "<ipython-input-203-00f05b26038a>:13: VisibleDeprecationWarning: Creating an ndarray from ragged nested sequences (which is a list-or-tuple of lists-or-tuples-or ndarrays with different lengths or shapes) is deprecated. If you meant to do this, you must specify 'dtype=object' when creating the ndarray\n",
      "  real_coefs = np.array([-A*mod_class.maxi, 0, T0/mod_class.maxi])\n",
      "<ipython-input-203-00f05b26038a>:13: VisibleDeprecationWarning: Creating an ndarray from ragged nested sequences (which is a list-or-tuple of lists-or-tuples-or ndarrays with different lengths or shapes) is deprecated. If you meant to do this, you must specify 'dtype=object' when creating the ndarray\n",
      "  real_coefs = np.array([-A*mod_class.maxi, 0, T0/mod_class.maxi])\n",
      "<ipython-input-203-00f05b26038a>:13: VisibleDeprecationWarning: Creating an ndarray from ragged nested sequences (which is a list-or-tuple of lists-or-tuples-or ndarrays with different lengths or shapes) is deprecated. If you meant to do this, you must specify 'dtype=object' when creating the ndarray\n",
      "  real_coefs = np.array([-A*mod_class.maxi, 0, T0/mod_class.maxi])\n",
      "<ipython-input-203-00f05b26038a>:13: VisibleDeprecationWarning: Creating an ndarray from ragged nested sequences (which is a list-or-tuple of lists-or-tuples-or ndarrays with different lengths or shapes) is deprecated. If you meant to do this, you must specify 'dtype=object' when creating the ndarray\n",
      "  real_coefs = np.array([-A*mod_class.maxi, 0, T0/mod_class.maxi])\n",
      "<ipython-input-203-00f05b26038a>:13: VisibleDeprecationWarning: Creating an ndarray from ragged nested sequences (which is a list-or-tuple of lists-or-tuples-or ndarrays with different lengths or shapes) is deprecated. If you meant to do this, you must specify 'dtype=object' when creating the ndarray\n",
      "  real_coefs = np.array([-A*mod_class.maxi, 0, T0/mod_class.maxi])\n"
     ]
    },
    {
     "name": "stdout",
     "output_type": "stream",
     "text": [
      "v' = -0.13506476 v^2 + 0.12000826 1\n"
     ]
    },
    {
     "name": "stderr",
     "output_type": "stream",
     "text": [
      "<ipython-input-203-00f05b26038a>:13: VisibleDeprecationWarning: Creating an ndarray from ragged nested sequences (which is a list-or-tuple of lists-or-tuples-or ndarrays with different lengths or shapes) is deprecated. If you meant to do this, you must specify 'dtype=object' when creating the ndarray\n",
      "  real_coefs = np.array([-A*mod_class.maxi, 0, T0/mod_class.maxi])\n"
     ]
    }
   ],
   "source": [
    "v0 = 5\n",
    "\n",
    "t_sims = np.zeros(N_SIMS)\n",
    "error_B = np.zeros(N_SIMS)\n",
    "for i in range(N_SIMS):\n",
    "    t_start = time.time()\n",
    "    mod_class = utils.Model()\n",
    "    mod_class.eval(utils.casoB, N_TRAYEC, t, [T0, A, B], v0, \n",
    "                    mod=utils.Model_params(feature_list=['v'], lib=utils.custom_ecs_B()))\n",
    "    _ = mod_class.error_trayec(t)\n",
    "    t_sims[i] = time.time() - t_start\n",
    "\n",
    "    real_coefs = np.array([-A*mod_class.maxi, 0, T0/mod_class.maxi])\n",
    "    #error_B[i] = np.mean(mod_class.error_coefs(real_coefs.T)**2, axis=1)\n",
    "    error_B[i] = np.mean((real_coefs-mod_class.model_sindy.coefficients())**2)\n",
    "\n",
    "times_B = t_sims.mean()\n",
    "error_B = np.median(error_B)\n",
    "mod_class.model_sindy.print(lhs=[\"v'\"], precision=8)"
   ]
  },
  {
   "cell_type": "markdown",
   "metadata": {},
   "source": [
    "# Caso C-1: Vuelo rectilíneo y simétrico: T cte y V variable y pequeña"
   ]
  },
  {
   "cell_type": "code",
   "execution_count": 204,
   "metadata": {},
   "outputs": [
    {
     "name": "stdout",
     "output_type": "stream",
     "text": [
      "Valor real de los coeficientes: A=0.013505625, B=156.0513186172428, C=T0=7\n"
     ]
    }
   ],
   "source": [
    "A = 0.5*1.225*cd0*S/m*10\n",
    "B = k*9.81**2/(0.5*1.225*S/m)\n",
    "# Este es el coeficiete C, en realidad es T/m\n",
    "T0 = 7\n",
    "print(f\"Valor real de los coeficientes: A={A}, B={B}, C=T0={T0}\")\n",
    "n_c1 = 100000\n",
    "deltat_c1 = 0.00001\n",
    "t_c1 = np.arange(0, int(n_c1*deltat_c1), deltat_c1)"
   ]
  },
  {
   "cell_type": "code",
   "execution_count": 205,
   "metadata": {},
   "outputs": [],
   "source": [
    "def real_coefs_mat(real_coefs, lib):\n",
    "    data = [np.ones((n, 1))]\n",
    "    lib = lib.fit(data[0])\n",
    "    n_features = lib.n_output_features_\n",
    "    list_names = lib.get_feature_names(['v'])\n",
    "\n",
    "    mat = np.zeros((data[0].shape[1], n_features))\n",
    "    mat[0, list_names.index('v^2')] = real_coefs[0]\n",
    "    mat[0, list_names.index('1/v^2')] = real_coefs[1]\n",
    "    mat[0, list_names.index('1')] = real_coefs[2]\n",
    "\n",
    "    return mat\n"
   ]
  },
  {
   "cell_type": "code",
   "execution_count": 206,
   "metadata": {},
   "outputs": [
    {
     "name": "stdout",
     "output_type": "stream",
     "text": [
      "v' = -0.1190 v^2 + -0.2875 1/v^2 + 0.8664 1\n"
     ]
    }
   ],
   "source": [
    "v0 = 5\n",
    "\n",
    "t_sims = np.zeros(N_SIMS)\n",
    "error_C1 = np.zeros(N_SIMS)\n",
    "\n",
    "for i in range(N_SIMS):\n",
    "    t_start = time.time()\n",
    "    mod_class = utils.Model()\n",
    "    mod_class.eval(utils.casoC1, N_TRAYEC, t_c1, [T0, A, B], v0,\n",
    "                    mod=utils.Model_params(feature_list=['v'], lib=utils.custom_ecs_B()))\n",
    "    _ = mod_class.error_trayec(t_c1)\n",
    "    t_sims[i] = time.time() - t_start\n",
    "\n",
    "    real_coefs = np.array([-A*mod_class.maxi, -B/mod_class.maxi**3, T0/mod_class.maxi])\n",
    "    mat_real = real_coefs_mat(real_coefs, utils.custom_ecs_B())\n",
    "\n",
    "    error_C1[i] = np.mean(mod_class.error_coefs(mat_real)**2)\n",
    "\n",
    "times_C1 = t_sims.mean()\n",
    "error_C1 = np.median(error_C1)\n",
    "mod_class.model_sindy.print(lhs=[\"v'\"], precision=4)"
   ]
  },
  {
   "cell_type": "code",
   "execution_count": 207,
   "metadata": {},
   "outputs": [
    {
     "name": "stdout",
     "output_type": "stream",
     "text": [
      "v' = -0.1190 v^2 + -0.2875 1/v^2 + 0.8664 1\n"
     ]
    }
   ],
   "source": [
    "mod_class.model_sindy.print(lhs=[\"v'\"], precision=4)"
   ]
  },
  {
   "cell_type": "code",
   "execution_count": 208,
   "metadata": {},
   "outputs": [
    {
     "data": {
      "text/plain": [
       "array([[-0.11062987],\n",
       "       [-0.28391891],\n",
       "       [ 0.85455562]])"
      ]
     },
     "execution_count": 208,
     "metadata": {},
     "output_type": "execute_result"
    }
   ],
   "source": [
    "real_coefs = np.array([-A*mod_class.maxi, -B/mod_class.maxi**3, T0/mod_class.maxi])\n",
    "real_coefs"
   ]
  },
  {
   "cell_type": "markdown",
   "metadata": {},
   "source": [
    "# Caso C-2: Vuelo rectilíneo y simétrico: T cte y V variable y pequeña"
   ]
  },
  {
   "cell_type": "code",
   "execution_count": 209,
   "metadata": {},
   "outputs": [],
   "source": [
    "n_c2 = 100000\n",
    "deltat_c2 = 0.0001\n",
    "t_c2 = np.arange(0, int(n_c2*deltat_c2), deltat_c2)"
   ]
  },
  {
   "cell_type": "code",
   "execution_count": 210,
   "metadata": {},
   "outputs": [],
   "source": [
    "def real_coefs_mat2(real_coefs, lib):\n",
    "    data = [np.ones((n, 1))]\n",
    "    lib = lib.fit(data[0])\n",
    "    n_features = lib.n_output_features_\n",
    "    list_names = lib.get_feature_names(['v'])\n",
    "\n",
    "    mat = np.zeros((data[0].shape[1], n_features))\n",
    "    mat[0, list_names.index('v^2')] = -(real_coefs[0] + 3*real_coefs[1])\n",
    "    mat[0, list_names.index('v')] = 8*real_coefs[1]\n",
    "    mat[0, list_names.index('1')] = -6*real_coefs[1]+real_coefs[2]\n",
    "\n",
    "    return mat\n",
    "\n"
   ]
  },
  {
   "cell_type": "code",
   "execution_count": 211,
   "metadata": {},
   "outputs": [
    {
     "name": "stdout",
     "output_type": "stream",
     "text": [
      "v' = 0.6819 v + -0.6845 v^2\n"
     ]
    }
   ],
   "source": [
    "v0 = 5\n",
    "# Calculo el tiempo para la aproximación de Taylor de orden 2\n",
    "t_sims = np.zeros(N_SIMS)\n",
    "error_C2_2 = np.zeros(N_SIMS)\n",
    "\n",
    "for i in range(N_SIMS):\n",
    "    t_start = time.time()\n",
    "    mod_class = utils.Model()\n",
    "    mod_class.eval(utils.casoC2, N_TRAYEC, t_c2, [T0, A, B], v0,\n",
    "                    mod=utils.Model_params(feature_list=['v'], lib=ps.PolynomialLibrary(degree=2)))\n",
    "    _ = mod_class.error_trayec(t_c2)\n",
    "    t_sims[i] = time.time() - t_start\n",
    "\n",
    "    real_coefs = np.array([A*mod_class.maxi, B/mod_class.maxi**3, T0/mod_class.maxi])\n",
    "    error_C2_2[i] = np.mean((mod_class.model_sindy.coefficients()-real_coefs_mat2(real_coefs, \n",
    "                                                                ps.PolynomialLibrary(degree=2)))**2)\n",
    "\n",
    "times_C2_2 = t_sims.mean()         \n",
    "error_C2_2 = np.median(error_C2_2)\n",
    "\n",
    "mod_class.model_sindy.print(lhs=[\"v'\"], precision=4)   "
   ]
  },
  {
   "cell_type": "code",
   "execution_count": 212,
   "metadata": {},
   "outputs": [
    {
     "data": {
      "text/plain": [
       "(array([-0.34272938]), array([0.11387285]), array([0.22969819]))"
      ]
     },
     "execution_count": 212,
     "metadata": {},
     "output_type": "execute_result"
    }
   ],
   "source": [
    "-(real_coefs[0] + 3*real_coefs[1]), 8*real_coefs[1],-6*real_coefs[1]+real_coefs[2]"
   ]
  },
  {
   "cell_type": "code",
   "execution_count": 213,
   "metadata": {},
   "outputs": [
    {
     "data": {
      "text/plain": [
       "(array([[ 0.22969819,  0.11387285, -0.34272938]]),\n",
       " array([[ 0.        ,  0.68190413, -0.68448602]]))"
      ]
     },
     "execution_count": 213,
     "metadata": {},
     "output_type": "execute_result"
    }
   ],
   "source": [
    "real_coefs_mat2(real_coefs,ps.PolynomialLibrary(degree=2)), mod_class.model_sindy.coefficients()"
   ]
  },
  {
   "cell_type": "code",
   "execution_count": 214,
   "metadata": {},
   "outputs": [],
   "source": [
    "def real_coefs_mat3(real_coefs, lib):\n",
    "    data = [np.ones((n, 1))]\n",
    "    lib = lib.fit(data[0])\n",
    "    n_features = lib.n_output_features_\n",
    "    list_names = lib.get_feature_names(['v'])\n",
    "\n",
    "    mat = np.zeros((data[0].shape[1], n_features))\n",
    "    mat[0, list_names.index('v^3')] = 4*real_coefs[1]\n",
    "    mat[0, list_names.index('v^2')] = -(real_coefs[0] + 15*real_coefs[1])\n",
    "    mat[0, list_names.index('v')] = 20*real_coefs[1]\n",
    "    mat[0, list_names.index('1')] = -10*real_coefs[1]+real_coefs[2]\n",
    "\n",
    "    return mat\n"
   ]
  },
  {
   "cell_type": "code",
   "execution_count": 215,
   "metadata": {},
   "outputs": [
    {
     "name": "stdout",
     "output_type": "stream",
     "text": [
      "v' = -0.1807 1 + 1.6556 v + -2.2542 v^2 + 0.7812 v^3\n"
     ]
    }
   ],
   "source": [
    "v0 = 5\n",
    "# Calculo el tiempo para la aproximación de Taylor de orden 3\n",
    "t_sims = np.zeros(N_SIMS)\n",
    "error_C2 = np.zeros(N_SIMS)\n",
    "\n",
    "for i in range(N_SIMS):\n",
    "    t_start = time.time()\n",
    "    mod_class = utils.Model()\n",
    "    mod_class.eval(utils.casoC2, N_TRAYEC, t_c2, [T0, A, B], v0,\n",
    "                    mod=utils.Model_params(feature_list=['v'], lib=ps.PolynomialLibrary(degree=3)))\n",
    "    _ = mod_class.error_trayec(t_c2)\n",
    "    t_sims[i] = time.time() - t_start\n",
    "\n",
    "    real_coefs = np.array([A*mod_class.maxi, B/mod_class.maxi**3, T0/mod_class.maxi])\n",
    "    error_C2[i] = np.mean((mod_class.model_sindy.coefficients()-real_coefs_mat3(real_coefs, \n",
    "                                                                ps.PolynomialLibrary(degree=3)))**2)\n",
    "\n",
    "times_C2 = t_sims.mean()    \n",
    "error_C2 = np.median(error_C2)     \n",
    "mod_class.model_sindy.print(lhs=[\"v'\"], precision=4)          "
   ]
  },
  {
   "cell_type": "code",
   "execution_count": 216,
   "metadata": {},
   "outputs": [
    {
     "data": {
      "text/plain": [
       "array([[0.30003504],\n",
       "       [0.01423297],\n",
       "       [0.31509444]])"
      ]
     },
     "execution_count": 216,
     "metadata": {},
     "output_type": "execute_result"
    }
   ],
   "source": [
    "real_coefs"
   ]
  },
  {
   "cell_type": "code",
   "execution_count": 217,
   "metadata": {},
   "outputs": [
    {
     "data": {
      "text/plain": [
       "(array([0.05693188]),\n",
       " array([-0.5135296]),\n",
       " array([0.28465942]),\n",
       " array([0.17276474]))"
      ]
     },
     "execution_count": 217,
     "metadata": {},
     "output_type": "execute_result"
    }
   ],
   "source": [
    "4*real_coefs[1],-(real_coefs[0] + 15*real_coefs[1]), 20*real_coefs[1],-10*real_coefs[1]+real_coefs[2]"
   ]
  },
  {
   "cell_type": "code",
   "execution_count": 218,
   "metadata": {},
   "outputs": [
    {
     "data": {
      "text/plain": [
       "(array([[ 0.17276474,  0.28465942, -0.5135296 ,  0.05693188]]),\n",
       " array([[-0.18069077,  1.6556076 , -2.25422943,  0.7812171 ]]))"
      ]
     },
     "execution_count": 218,
     "metadata": {},
     "output_type": "execute_result"
    }
   ],
   "source": [
    "real_coefs_mat3(real_coefs,ps.PolynomialLibrary(degree=3)), mod_class.model_sindy.coefficients()"
   ]
  },
  {
   "cell_type": "code",
   "execution_count": 219,
   "metadata": {},
   "outputs": [
    {
     "data": {
      "text/plain": [
       "1.4787160426615555"
      ]
     },
     "execution_count": 219,
     "metadata": {},
     "output_type": "execute_result"
    }
   ],
   "source": [
    "error_C2"
   ]
  },
  {
   "cell_type": "markdown",
   "metadata": {},
   "source": [
    "# Caso D-1: Loop ideal V no cte y empuje cte"
   ]
  },
  {
   "cell_type": "code",
   "execution_count": 220,
   "metadata": {},
   "outputs": [
    {
     "name": "stdout",
     "output_type": "stream",
     "text": [
      "Valor de los coeficientes: A1=0.9999999999999999, A2=1.0, A3=1.2232415902140672, A4=0.3173280974197259, U=14.76174801634704, Tc=1.5047653431546422\n",
      "Valores que sindy debe obtener: A3=1.2232415902140672, A4=0.3173280974197259, A5=0.037350889863077684, A6=0.04632990222327998, A7=1, A8=0.073\n"
     ]
    }
   ],
   "source": [
    "T0 = 12 # T/m\n",
    "\n",
    "R = 70\n",
    "# velocidad caracteristica\n",
    "U = (2*9.81*m/(1.225*S))**0.5\n",
    "Tc = U/9.81\n",
    "A1 = 0.5*1.225*U*Tc*S/m\n",
    "A2 = Tc*9.81/U\n",
    "A3 = T0*Tc/(U)\n",
    "A4 = Tc*U/(R)\n",
    "A5 = cd0 + k*A4**2\n",
    "A6 = 2*k*A4\n",
    "A7 = 1\n",
    "A8 = k\n",
    "print(f\"Valor de los coeficientes: A1={A1}, A2={A2}, A3={A3}, A4={A4}, U={U}, Tc={Tc}\")\n",
    "print(f\"Valores que sindy debe obtener: A3={A3}, A4={A4}, A5={A5}, A6={A6}, A7={A7}, A8={A8}\")"
   ]
  },
  {
   "cell_type": "code",
   "execution_count": 221,
   "metadata": {},
   "outputs": [],
   "source": [
    "def initial_vars(lib=utils.custom_ecs_D1()):   \n",
    "    data = [np.ones((n, 2)), np.ones((n, 2))]\n",
    "    print(data[0].shape, data[0].reshape(-1, 1).shape)\n",
    "    lib = lib.fit(data[0])\n",
    "    n_features = lib.n_output_features_\n",
    "    list_names = lib.get_feature_names(['v', 'gamma'])\n",
    "    print(list_names)\n",
    "    return n_features, data, list_names"
   ]
  },
  {
   "cell_type": "code",
   "execution_count": 222,
   "metadata": {},
   "outputs": [],
   "source": [
    "def real_coefs_mat(real_coefs):\n",
    "    features, data, list_names = initial_vars()\n",
    "    mat = np.zeros((data[0].shape[1], features))\n",
    "\n",
    "    mat[0, list_names.index('1v')] = real_coefs[4]\n",
    "    mat[0, list_names.index('v^2')] = real_coefs[0]\n",
    "    mat[0, list_names.index('cos(gamma)^2/v^2')] = real_coefs[3]\n",
    "    mat[0, list_names.index('cos(gamma)')] = real_coefs[2]\n",
    "    mat[0, list_names.index('sin(gamma)')] = real_coefs[1]\n",
    "    mat[1, list_names.index('v')] = real_coefs[5]\n",
    "\n",
    "    return mat"
   ]
  },
  {
   "cell_type": "code",
   "execution_count": 223,
   "metadata": {},
   "outputs": [],
   "source": [
    "def error_coefs(real_coefs, sim_coefs):\n",
    "    sim_coefs[0, -2] = sim_coefs[0, -2] + sim_coefs[0, -1]\n",
    "    sim_coefs[0, -1] = 0\n",
    "\n",
    "    return np.mean((real_coefs -  sim_coefs)**2)"
   ]
  },
  {
   "cell_type": "code",
   "execution_count": 224,
   "metadata": {},
   "outputs": [
    {
     "name": "stdout",
     "output_type": "stream",
     "text": [
      "(10000, 2) (20000, 1)\n",
      "['v', 'gamma', 'v^2', 'gamma^2', 'sin(v)', 'sin(gamma)', 'cos(v)', 'cos(gamma)', 'cos(gamma)^2/v^2', '1v', '1gamma']\n",
      "v' = -0.3743 v^2 + -10.0045 sin(gamma) + -0.4482 cos(gamma) + -4.5439 cos(gamma)^2/v^2 + 12.3431 1v\n",
      "gamma' = 3.1751 v\n"
     ]
    }
   ],
   "source": [
    "deltat_train = 0.0001\n",
    "x0 = [3, 5] #v0 y gamma0 en grados, de validacionn\n",
    "mod = utils.Model_params(deltat=deltat_train, lib=utils.custom_ecs_D1(), opt=1,\n",
    "            feature_list=['v', 'gamma'])\n",
    "\n",
    "t_sims = np.zeros(N_SIMS)\n",
    "error_D1 = np.zeros(N_SIMS)\n",
    "\n",
    "rel = (t[1]-t[0])/deltat_train\n",
    "real_coefs = np.array([-A5*rel, -A7*rel, -A6*rel, -A8*rel, A3*rel, A4*rel])\n",
    "mat_real_coefs = real_coefs_mat(real_coefs)\n",
    "\n",
    "\n",
    "for i in range(N_SIMS):\n",
    "    t_start = time.time()\n",
    "    mod_class = utils.Model()\n",
    "    mod_class.eval(utils.casoD1, N_TRAYEC, t, \n",
    "                                        [A3, A4, cd0, k], x0, \n",
    "                                        adim=False, deltat_train=deltat_train, mod=mod)\n",
    "    _ = mod_class.error_trayec(t)\n",
    "    t_sims[i] = time.time() - t_start\n",
    "\n",
    "    error_D1[i] = error_coefs(mat_real_coefs, mod_class.model_sindy.coefficients())\n",
    "\n",
    "times_D1 = t_sims.mean()    \n",
    "error_D1 = np.median(error_D1)\n",
    "\n",
    "mod_class.model_sindy.print(lhs=[\"v'\", \"gamma'\"], precision=4)"
   ]
  },
  {
   "cell_type": "markdown",
   "metadata": {},
   "source": [
    "# Caso D-2: Loop ideal V cte y empuje no cte"
   ]
  },
  {
   "cell_type": "code",
   "execution_count": 225,
   "metadata": {},
   "outputs": [
    {
     "name": "stdout",
     "output_type": "stream",
     "text": [
      "Valor de los coeficientes: A4=78.02565930862141, A5=15.907371928363181, A6=1.0, A7=27.8220232889074, W=981.0\n",
      "Coeficientes que sindy debe calcular: A6=1.0, A8=7.802565930862142, A9=1.590737192836318, A10=98.1\n"
     ]
    }
   ],
   "source": [
    "m = 100\n",
    "W = m*9.81\n",
    "\n",
    "V0 = 10\n",
    "R = 100\n",
    "# velocidad caracteristica\n",
    "U = (2*9.81*m/(1.225*S))**0.5\n",
    "Tc = U/9.81\n",
    "A1 = 0.5*1.225*S*V0**2\n",
    "A2 = A1*cd0\n",
    "A3 = (k*m**2 * V0**4)/(A1*R**2)\n",
    "A4 = k*W**2/A1\n",
    "A5 = (2*k*W*m*V0**2)/(R*A1)\n",
    "A6 = V0/R*10\n",
    "A7 = A2 + A3\n",
    "A8 = A4*V0/R\n",
    "A9 = A5*V0/R\n",
    "A10 = W*V0/R\n",
    "print(f\"Valor de los coeficientes: A4={A4}, A5={A5}, A6={A6}, A7={A7}, W={W}\")\n",
    "print(f\"Coeficientes que sindy debe calcular: A6={A6}, A8={A8}, A9={A9}, A10={A10}\")"
   ]
  },
  {
   "cell_type": "code",
   "execution_count": 226,
   "metadata": {},
   "outputs": [],
   "source": [
    "def initial_vars(lib):\n",
    "    data = [np.ones((n, 2)), np.ones((n, 2))]\n",
    "    print(data[0].shape, data[0].reshape(-1, 1).shape)\n",
    "    lib = utils.custom_ecs_D2().fit(data[0])\n",
    "    n_features = lib.n_output_features_\n",
    "    list_names = lib.get_feature_names(['T', 'gamma'])\n",
    "    print(list_names)\n",
    "\n",
    "    return n_features, data, list_names"
   ]
  },
  {
   "cell_type": "code",
   "execution_count": 227,
   "metadata": {},
   "outputs": [],
   "source": [
    "def real_coefs_mat(real_coefs):\n",
    "    features, data, list_names = initial_vars(lib=utils.custom_ecs_D2())\n",
    "    mat = np.zeros((data[0].shape[1], features))\n",
    "\n",
    "    mat[0, list_names.index('sin(2*gamma)')] = real_coefs[0]\n",
    "    mat[0, list_names.index('sin(gamma)')] = real_coefs[1]\n",
    "    mat[0, list_names.index('cos(gamma)')] = real_coefs[2]\n",
    "    mat[1, list_names.index('1gamma')] = real_coefs[3]\n",
    "\n",
    "    return mat"
   ]
  },
  {
   "cell_type": "code",
   "execution_count": 228,
   "metadata": {},
   "outputs": [
    {
     "name": "stdout",
     "output_type": "stream",
     "text": [
      "(10000, 2) (20000, 1)\n",
      "['sin(2*T)', 'sin(2*gamma)', 'sin(T)', 'sin(gamma)', 'cos(T)', 'cos(gamma)', '1T', '1gamma']\n",
      "(10000, 2) (20000, 1)\n",
      "['sin(2*T)', 'sin(2*gamma)', 'sin(T)', 'sin(gamma)', 'cos(T)', 'cos(gamma)', '1T', '1gamma']\n",
      "(10000, 2) (20000, 1)\n",
      "['sin(2*T)', 'sin(2*gamma)', 'sin(T)', 'sin(gamma)', 'cos(T)', 'cos(gamma)', '1T', '1gamma']\n",
      "(10000, 2) (20000, 1)\n",
      "['sin(2*T)', 'sin(2*gamma)', 'sin(T)', 'sin(gamma)', 'cos(T)', 'cos(gamma)', '1T', '1gamma']\n",
      "(10000, 2) (20000, 1)\n",
      "['sin(2*T)', 'sin(2*gamma)', 'sin(T)', 'sin(gamma)', 'cos(T)', 'cos(gamma)', '1T', '1gamma']\n",
      "(10000, 2) (20000, 1)\n",
      "['sin(2*T)', 'sin(2*gamma)', 'sin(T)', 'sin(gamma)', 'cos(T)', 'cos(gamma)', '1T', '1gamma']\n",
      "(10000, 2) (20000, 1)\n",
      "['sin(2*T)', 'sin(2*gamma)', 'sin(T)', 'sin(gamma)', 'cos(T)', 'cos(gamma)', '1T', '1gamma']\n",
      "(10000, 2) (20000, 1)\n",
      "['sin(2*T)', 'sin(2*gamma)', 'sin(T)', 'sin(gamma)', 'cos(T)', 'cos(gamma)', '1T', '1gamma']\n",
      "(10000, 2) (20000, 1)\n",
      "['sin(2*T)', 'sin(2*gamma)', 'sin(T)', 'sin(gamma)', 'cos(T)', 'cos(gamma)', '1T', '1gamma']\n",
      "(10000, 2) (20000, 1)\n",
      "['sin(2*T)', 'sin(2*gamma)', 'sin(T)', 'sin(gamma)', 'cos(T)', 'cos(gamma)', '1T', '1gamma']\n",
      "T' = -7.7990 sin(2*gamma) + -1.5923 sin(gamma) + 98.0922 cos(gamma)\n",
      "gamma' = 1.0000 1gamma\n"
     ]
    }
   ],
   "source": [
    "x0 = [5, 5] \n",
    "\n",
    "t_sims = np.zeros(N_SIMS)\n",
    "error_D2 = np.zeros(N_SIMS)\n",
    "for i in range(N_SIMS):\n",
    "    t_start = time.time()\n",
    "    mod_class = utils.Model()\n",
    "    mod_class.eval(utils.casoD2, N_TRAYEC, t, [A6, A8, A9, A10], x0, \n",
    "                                        adim=False, ders=True, \n",
    "                                        mod=utils.Model_params(feature_list=['T', 'gamma'], lib=utils.custom_ecs_D2()))\n",
    "    _ = mod_class.error_trayec(t)\n",
    "    t_sims[i] = time.time() - t_start\n",
    "\n",
    "    real_coefs = np.array([-A8, -A9, A10, A6])\n",
    "    mat_real_coefs = real_coefs_mat(real_coefs)\n",
    "\n",
    "    error_D2[i] = np.mean(mod_class.error_coefs(mat_real_coefs)**2)\n",
    "    \n",
    "mod_class.model_sindy.print(lhs=[\"T'\", \"gamma'\"], precision=4)\n",
    "error_D2 = np.median(error_D2)\n",
    "times_D2 = t_sims.mean()  "
   ]
  },
  {
   "cell_type": "code",
   "execution_count": 229,
   "metadata": {},
   "outputs": [
    {
     "name": "stderr",
     "output_type": "stream",
     "text": [
      "No artists with labels found to put in legend.  Note that artists whose label start with an underscore are ignored when legend() is called with no argument.\n"
     ]
    },
    {
     "data": {
      "image/png": "[encoded data removed]",
      "text/plain": [
       "<Figure size 864x576 with 1 Axes>"
      ]
     },
     "metadata": {
      "needs_background": "light"
     },
     "output_type": "display_data"
    }
   ],
   "source": [
    "# representar tiempo de ejecucion de todos los casos\n",
    "# set width of bar\n",
    "barWidth = 0.5\n",
    "fig = plt.subplots(figsize =(12, 8))\n",
    " \n",
    "# Set position of bar on X axis\n",
    "br1 = np.arange(7)\n",
    " \n",
    "# Make the plot\n",
    "plt.bar(br1, [times_A, times_B, times_C1, times_C2, times_C2_2, times_D1, times_D2], \n",
    "                color ='b', width = barWidth,\n",
    "        edgecolor ='grey')\n",
    "# Adding Xticks\n",
    "#plt.xlabel('Branch', fontweight ='bold', fontsize = 15)\n",
    "plt.title('Tiempo de ejecución para cada caso', fontsize=18)\n",
    "plt.ylabel('Tiempo de ejecución (s)', fontsize = 15)\n",
    "plt.xticks([r for r in range(7)],\n",
    "         ['Caso A', 'Caso B', 'Caso C-1', 'Caso C-2\\norden 2', 'Caso C-2\\norden 3', 'Caso D-1', 'Caso D-2'], \n",
    "            fontsize=14)\n",
    "plt.yticks(fontsize=14)\n",
    "#plt.yscale('log')\n",
    "plt.legend(fontsize = 14)\n",
    "plt.show()"
   ]
  },
  {
   "cell_type": "code",
   "execution_count": 230,
   "metadata": {},
   "outputs": [
    {
     "name": "stderr",
     "output_type": "stream",
     "text": [
      "No artists with labels found to put in legend.  Note that artists whose label start with an underscore are ignored when legend() is called with no argument.\n"
     ]
    },
    {
     "data": {
      "image/png": "[encoded data removed]",
      "text/plain": [
       "<Figure size 864x576 with 1 Axes>"
      ]
     },
     "metadata": {
      "needs_background": "light"
     },
     "output_type": "display_data"
    }
   ],
   "source": [
    "# representar error cuadratico medio de los coeficientes por caso\n",
    "# set width of bar\n",
    "barWidth = 0.5\n",
    "fig = plt.subplots(figsize =(12, 8))\n",
    " \n",
    "# Set position of bar on X axis\n",
    "br1 = np.arange(6)\n",
    " \n",
    "# Make the plot\n",
    "plt.bar(br1, [error_B, error_C1, error_C2_2, error_C2, error_D1, error_D2], \n",
    "                color ='b', width = barWidth,\n",
    "        edgecolor ='grey')\n",
    "# Adding Xticks\n",
    "#plt.xlabel('Branch', fontweight ='bold', fontsize = 15)\n",
    "plt.title('Error en los coeficientes para cada caso', fontsize=18)\n",
    "plt.ylabel('Error cuadrático medio', fontsize = 15)\n",
    "plt.xticks([r for r in range(6)],\n",
    "        ['Caso B', 'Caso C-1', 'Caso C-2\\norden 2', 'Caso C-2\\norden 3', 'Caso D-1', 'Caso D-2'], fontsize=14)\n",
    "plt.yticks(fontsize=14)\n",
    "#plt.yscale('log')\n",
    "plt.yscale('log')\n",
    "plt.legend(fontsize = 14)\n",
    "plt.show()"
   ]
  },
  {
   "cell_type": "code",
   "execution_count": 231,
   "metadata": {},
   "outputs": [
    {
     "data": {
      "text/plain": [
       "(2.2524043800467195e-25,\n",
       " 4.2160013677975584e-11,\n",
       " 5.696244442939797e-05,\n",
       " 0.16375672127899604,\n",
       " 1.4787160426615555,\n",
       " 0.9412954067883923,\n",
       " 6.844304072767409e-06)"
      ]
     },
     "execution_count": 231,
     "metadata": {},
     "output_type": "execute_result"
    }
   ],
   "source": [
    "error_A, error_B, error_C1, error_C2_2, error_C2, error_D1, error_D2"
   ]
  },
  {
   "cell_type": "code",
   "execution_count": 232,
   "metadata": {},
   "outputs": [
    {
     "ename": "SyntaxError",
     "evalue": "invalid syntax (<ipython-input-232-a8cd53c7c035>, line 33)",
     "output_type": "error",
     "traceback": [
      "\u001b[0;36m  File \u001b[0;32m\"<ipython-input-232-a8cd53c7c035>\"\u001b[0;36m, line \u001b[0;32m33\u001b[0m\n\u001b[0;31m    feature_names=['var1', 'var2'...],\u001b[0m\n\u001b[0m                                 ^\u001b[0m\n\u001b[0;31mSyntaxError\u001b[0m\u001b[0;31m:\u001b[0m invalid syntax\n"
     ]
    }
   ],
   "source": [
    "#pseudocódigo de los pasos para cada caso\n",
    "t = generar_vector_tiempos(n_puntos, paso_tiempo)\n",
    "coefs = coeficientes_caso()\n",
    "\n",
    "# condiciones iniciales para las trayectorias de train\n",
    "cond_inic = condiciones_iniciales_aleatorias(variables)\n",
    "# condiciones iniciales para la trayectoria de validacion\n",
    "cond_inic_val = [cond1, cond2, ...]\n",
    "\n",
    "# generar los datos según el caso\n",
    "data_train, data_dot_train = generar_trayectoria(t, coefs, cond_inic, n_trayec)\n",
    "data_val, data_dot_val = generar_trayectoria(t, coefs, cond_inic_val, 1)\n",
    "\n",
    "# normalizar los datos si es necesario\n",
    "if normalizar:\n",
    "    data_train, data_dot_train = normalizar(data_train, data_dot_train)\n",
    "    data_val, data_dot_val = normalizar(data_val, data_dot_val)\n",
    "\n",
    "# añadir ruido AWGN\n",
    "if ruido:\n",
    "    data_train, data_dot_train = sumar_ruido(data, data_dot, pot_ruido, pot_ruido_dot)\n",
    "\n",
    "# generar initial guess y restricciones en caso de que sea necesario, sino devuelve None\n",
    "initial_guess, restric_lhs, restric_rhs = generar_restric(data.shape, n_restris, rhs)\n",
    "lib = crear_libreria_funciones()\n",
    "matriz_real_coefs = crear_mat_coefs(coefs, lib)\n",
    "\n",
    "# crear el modelo de SINDy\n",
    "model_sindy = ps.SINDy(\n",
    "            optimizer=ps.sindy_opt(initial_guess=initial_guess, \n",
    "                    lhs=restric_lhs, rhs=restric_rhs), \n",
    "            feature_library=lib,                                           \n",
    "            feature_names=['var1', 'var2'...], \n",
    "        )\n",
    "# entrenar el modelo de SINDy       \n",
    "model_sindy.fit(data_train, t=paso_tiempo, \n",
    "                multiple_trajectories=False, x_dot=data_dot_train)\n",
    "\n",
    "x_sim = model_sindy.simulate(cond_inic_val, t)    \n",
    "error_trayec = mean((x_sim-data_val)**2)\n",
    "error_coefs = mean((model_sindy.coefficients()-matriz_real_coefs)**2)\n",
    "\n",
    "\n"
   ]
  },
  {
   "cell_type": "code",
   "execution_count": null,
   "metadata": {},
   "outputs": [],
   "source": []
  }
 ],
 "metadata": {
  "interpreter": {
   "hash": "31f2aee4e71d21fbe5cf8b01ff0e069b9275f58929596ceb00d14d90e3e16cd6"
  },
  "kernelspec": {
   "display_name": "Python 3.8.10 64-bit",
   "language": "python",
   "name": "python3"
  },
  "language_info": {
   "codemirror_mode": {
    "name": "ipython",
    "version": 3
   },
   "file_extension": ".py",
   "mimetype": "text/x-python",
   "name": "python",
   "nbconvert_exporter": "python",
   "pygments_lexer": "ipython3",
   "version": "3.8.10"
  },
  "orig_nbformat": 4
 },
 "nbformat": 4,
 "nbformat_minor": 2
}
