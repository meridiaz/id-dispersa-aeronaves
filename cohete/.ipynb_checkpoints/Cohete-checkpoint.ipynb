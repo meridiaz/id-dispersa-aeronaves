{
 "cells": [
  {
   "cell_type": "code",
   "execution_count": 26,
   "metadata": {},
   "outputs": [],
   "source": [
    "import numpy as np\n",
    "import matplotlib.pyplot as plt\n",
    "from mpl_toolkits.mplot3d import Axes3D\n",
    "from scipy.integrate import odeint\n",
    "from scipy.integrate import solve_ivp\n",
    "import pysindy as ps\n",
    "import math\n",
    "from math import pi"
   ]
  },
  {
   "cell_type": "markdown",
   "metadata": {},
   "source": [
    "Variables globales:"
   ]
  },
  {
   "cell_type": "code",
   "execution_count": 27,
   "metadata": {},
   "outputs": [],
   "source": [
    "def coefs_ecs(p_c):\n",
    "    coefs = {\n",
    "        'A': p_c['T']/p_c['m'],\n",
    "        'B': (pi*p_c['rho']*p_c['cd0']*(p_c['d']**2))/(8*p_c['m']),\n",
    "        'C': p_c['g'],\n",
    "        'D': (1-pi*p_c['rho']*(p_c['d']**3)*p_c['cntp']/(16*p_c['m']))/(1+pi*p_c['rho']*(p_c['d']**3)*p_c['cnap']/(16*p_c['m'])),\n",
    "        'E': (pi*p_c['rho']*(p_c['d']**2)*p_c['cna']/(16*p_c['m']))/(1+pi*p_c['rho']*(p_c['d']**3)*p_c['cnap']/(16*p_c['m'])),\n",
    "        'F': (p_c['T'])/(p_c['m']+pi*p_c['rho']*(p_c['d']**3)*p_c['cnap']/(16)),\n",
    "        'G': p_c['g']/(1+pi*p_c['rho']*(p_c['d']**3)*p_c['cnap']/(16*p_c['m'])),\n",
    "        'H': (pi*p_c['rho']*(p_c['d']**3)*p_c['cma'])/(8*p_c['Iy']),\n",
    "        'I': (pi*p_c['rho']*(p_c['d']**4)*p_c['cmtp'])/(16*p_c['Iy']),\n",
    "        'J': (pi*p_c['rho']*(p_c['d']**4)*p_c['cmap'])/(16*p_c['Iy'])\n",
    "    }\n",
    "    return coefs"
   ]
  },
  {
   "cell_type": "code",
   "execution_count": 28,
   "metadata": {},
   "outputs": [],
   "source": [
    "#que son los coeficiente del cn??????????? \n",
    "paso_tiempo=0.001\n",
    "max_time = 30.0\n",
    "\n",
    "#parametros fisicos del cohete:\n",
    "param_cohe = {\n",
    "    'T': 29160, #empuje\n",
    "    'm': 77.4, #masa\n",
    "    'rho': 1.225, #densidad\n",
    "    'd': 0.14, #diametro\n",
    "    'cntp': 67.934021, #cntheta'\n",
    "    'cnap': 50.813892,#cn alfa'\n",
    "    'cna': 0.415000,#cnalfa\n",
    "    'Iy': 35.63,#inercia en el eje y\n",
    "    'cma': -35.581600,#cm alfa\n",
    "    'cmtp': 0,#60.934021,#cm theta'\n",
    "    'cmap': 0,#-225.731250,#cm alfa'\n",
    "    'cd0': 0.270000,#fallo en el pdf???????????????????? \n",
    "    'g': 9.81, #gravedad\n",
    "}\n",
    "\n",
    "#coeficientes de las ecuaciones del cohete 2D:\n",
    "coefs = coefs_ecs(param_cohe)\n",
    "\n",
    "#valores iniciales:\n",
    "inicial_values = {\n",
    "    'x': 1.,\n",
    "    'y': 1.,\n",
    "    'vel': 1,\n",
    "    'alfa': math.pi/5,\n",
    "    'theta': math.pi/5, #40 grados\n",
    "    'theta_dot': 0.0001 \n",
    "}\n",
    " #x,y,v, alfa, theta, theta'"
   ]
  },
  {
   "cell_type": "markdown",
   "metadata": {},
   "source": [
    "Las incógnitas son theta, alfa, V, theta prima y alfa prima. Ecuaciones a modelar:"
   ]
  },
  {
   "cell_type": "code",
   "execution_count": 29,
   "metadata": {},
   "outputs": [],
   "source": [
    "def eqs(t_train, x0_train, a=coefs['A'], b=coefs['B'], c=coefs['C'], d=coefs['D'], e=coefs['E'], f=coefs['F'], \n",
    "        g=coefs['G'],h=coefs['H'], i=coefs['I'], jota=coefs['J']):\n",
    "    \n",
    "    x0, y0, v0, alfa0, theta0, u0 = x0_train\n",
    "    \n",
    "    vel_dot = a*math.cos(alfa0) - b*v0**2 - c*math.sin(theta0-alfa0)\n",
    "    alfa_dot = d*u0 - e*v0*alfa0 - f*math.sin(alfa0)*1/v0 + g*math.cos(theta0 - alfa0)*1/v0\n",
    "    theta_dot_dot = h*alfa0*v0**2 + i*v0*u0 + jota*v0*alfa_dot\n",
    "    \n",
    "    x_dot = v0*math.cos(theta0-alfa0)\n",
    "    y_dot = v0*math.sin(theta0-alfa0)\n",
    "    \n",
    "    theta_dot = u0\n",
    "    return x_dot, y_dot, vel_dot, alfa_dot, theta_dot, theta_dot_dot"
   ]
  },
  {
   "cell_type": "code",
   "execution_count": 30,
   "metadata": {},
   "outputs": [],
   "source": [
    "#x0_train = [x, y, v, alfa, theta, theta']\n",
    "def calculate_data(t_max, dt, coefs, inicial_values):\n",
    "    \n",
    "    t_train = np.arange(0.0, t_max, dt)\n",
    "    a=coefs['A']\n",
    "    b=coefs['B']\n",
    "    c=coefs['C']\n",
    "    d=coefs['D']\n",
    "    e=coefs['E']\n",
    "    f=coefs['F']\n",
    "    g=coefs['G']\n",
    "    h=coefs['H']\n",
    "    i=coefs['I']\n",
    "    jota=coefs['J']\n",
    "    x0_train=[\n",
    "        inicial_values['x'],\n",
    "        inicial_values['y'],\n",
    "        inicial_values['vel'], \n",
    "        inicial_values['alfa'],\n",
    "        inicial_values['theta'],\n",
    "        inicial_values['theta_dot']\n",
    "    ]\n",
    "    \n",
    "    #sol = np.ones((t_train.size, 5))\n",
    "    print(t_train[0], t_train[-1])\n",
    "    \n",
    "    x_sol = solve_ivp(eqs, (t_train[0], t_train[-1]), x0_train, args=(a,b,c,d,e,f,g,h,i,jota), t_eval=t_train) \n",
    "    #[x, y, v, alfa, theta, theta']\n",
    "    print(x_sol)\n",
    "    \n",
    "    x_dot_train_measured = np.ones((t_train.size, 6)) #contiene, x',y',v',alfa',theta''\n",
    "    \n",
    "   \n",
    "    fig = plt.figure()\n",
    "    #ax = fig.gca(projection='2d')\n",
    "\n",
    "    plt.plot(x_sol.t, x_sol.y.T[:, 0], lw=0.5)\n",
    "    plt.xlabel(\"tiempo\")\n",
    "    plt.ylabel(\"posicion en x\")\n",
    "    plt.title(\"Trayectoria en x\")\n",
    "\n",
    "    plt.show()\n",
    "    \n",
    "    fig = plt.figure()\n",
    "    #ax = fig.gca(projection='2d')\n",
    "\n",
    "    plt.plot(x_sol.t, x_sol.y.T[:, 1], lw=0.5)\n",
    "    plt.xlabel(\"tiempo\")\n",
    "    plt.ylabel(\"posicion y\")\n",
    "    plt.title(\"Trayectoria en y\")\n",
    "\n",
    "    plt.show()\n",
    "    \n",
    "    fig = plt.figure()\n",
    "    #ax = fig.gca(projection='2d')\n",
    "\n",
    "    plt.plot(x_sol.y.T[:, 0], x_sol.y.T[:, 1], lw=0.5)\n",
    "    plt.xlabel(\"tiempo\")\n",
    "    plt.ylabel(\"posicion y\")\n",
    "    plt.title(\"posicion x frente a y\")\n",
    "\n",
    "    plt.show()\n",
    "   \n",
    "    plt.plot(x_sol.t, x_sol.y.T[:, 2:5])\n",
    "    plt.legend([\"vel\",\"alfa\", \"theta\"])\n",
    "    plt.show()\n",
    "    print(t_train.size, x_sol.y.T.shape)\n",
    "    for i in range(t_train.size):\n",
    "        x_dot_train_measured[i, :] = eqs(t_train, x_sol.y.T[i, :], a,b,c,d,f,g,h,i,jota)\n",
    "\n",
    "    \n",
    "    \n",
    "    \n",
    "    return x_sol.y.T, x_dot_train_measured"
   ]
  },
  {
   "cell_type": "markdown",
   "metadata": {},
   "source": [
    "Defino mi propia librería de funciones:"
   ]
  },
  {
   "cell_type": "code",
   "execution_count": 31,
   "metadata": {},
   "outputs": [],
   "source": [
    "def custom_library(poly_order=2):\n",
    "    library_functions = [\n",
    "        #lambda theta, alfa : np.cos(theta-alfa),\n",
    "        #lambda theta, alfa : np.sin(theta-alfa),\n",
    "        lambda alfa : np.sin(alfa),\n",
    "        lambda alfa : np.cos(alfa),\n",
    "        #lambda v: v**2,\n",
    "        lambda v, alfa: np.sin(alfa)/v \n",
    "    ]\n",
    "    library_function_names = [\n",
    "        #lambda theta, alfa : 'cos(' + theta + '-' + alfa +')',\n",
    "        #lambda theta, alfa : 'sen(' + theta + '-' + alfa +')',\n",
    "        lambda alfa : 'sen('  + alfa +')',\n",
    "        lambda alfa : 'cos('  + alfa +')',\n",
    "        #lambda v: v + '^2',\n",
    "        lambda v, alfa: 'sen(' + alfa + ')/' + v \n",
    "    ]\n",
    "    library = ps.CustomLibrary(\n",
    "                        library_functions=library_functions, \n",
    "                        function_names=library_function_names) #+ ps.PolynomialLibrary(degree=poly_order)\n",
    "    return library"
   ]
  },
  {
   "cell_type": "code",
   "execution_count": 32,
   "metadata": {},
   "outputs": [],
   "source": [
    "def custom_library2(poly_order=2):\n",
    "    library_functions = [\n",
    "        lambda theta, alfa : np.cos(theta-alfa),\n",
    "        lambda theta, alfa, v : v*np.cos(theta-alfa),\n",
    "        lambda theta, alfa, v : np.cos(theta-alfa)*1./v,\n",
    "        lambda theta, alfa : np.sin(theta-alfa),\n",
    "        lambda theta, alfa, v : v*np.sin(theta-alfa),\n",
    "        #lambda alfa : np.sin(alfa),\n",
    "        lambda alfa, v : np.sin(alfa)*1./v,\n",
    "        lambda alfa : np.cos(alfa),\n",
    "        #lambda v: 1./v,\n",
    "        lambda v, alfa: alfa*v**2,\n",
    "        lambda v, alfa: alfa*v,\n",
    "        \n",
    "    ]\n",
    "    library_function_names = [\n",
    "        lambda theta, alfa : 'cos(' + theta + '-' + alfa +')',\n",
    "        lambda theta, alfa, v : v + '*' + 'cos(' + theta + '-' + alfa +')',\n",
    "        lambda theta, alfa, v : 'cos(' + theta + '-' + alfa +')/' + v,\n",
    "        lambda theta, alfa : 'sen(' + theta + '-' + alfa +')',\n",
    "        lambda theta, alfa, v : v + '*' + 'sen(' + theta + '-' + alfa +')',\n",
    "        #lambda alfa : 'sen('  + alfa +')',\n",
    "        lambda alfa, v : 'sen('  + alfa +')/' + v,\n",
    "        lambda alfa : 'cos('  + alfa +')',\n",
    "        #lambda v :  '1/' + v,\n",
    "        lambda v, alfa: alfa+'*'+v+'^2',\n",
    "        lambda v, alfa: alfa+'*'+v,\n",
    "        \n",
    "    ]\n",
    "    library = ps.CustomLibrary(\n",
    "                        library_functions=library_functions, \n",
    "                        function_names=library_function_names) #+ ps.PolynomialLibrary(degree=poly_order)\n",
    "    return library"
   ]
  },
  {
   "cell_type": "code",
   "execution_count": 49,
   "metadata": {},
   "outputs": [],
   "source": [
    "def sindy_model(x_train, x_dot_train, dt, threshold = 0.2, terminos_ctes=False):\n",
    "    # Fit the model, me creo el modelo dinámico \n",
    "\n",
    "    #pysindy calcula las ecs que gobierna el movimiento\n",
    "    model = ps.SINDy(\n",
    "        optimizer=ps.STLSQ(threshold=threshold, normalize=True,  fit_intercept=terminos_ctes),\n",
    "        feature_library=ps.PolynomialLibrary(degree=2),#custom_library2(),#interaction_only=terminos_ctes,\n",
    "                                                         \n",
    "        feature_names=['x', 'y', 'v', 'alfa', 'theta', \"theta'\"],\n",
    "    )\n",
    "\n",
    "    #la doc dice que en t hay que poner el time step\n",
    "    model.fit(x_train, t=dt, x_dot=x_dot_train, quiet=True)\n",
    "\n",
    "    #print(model.equations(precision=52))\n",
    "    model.print(precision=4)\n",
    "    #print(model.coefficients())\n",
    "    return model"
   ]
  },
  {
   "cell_type": "markdown",
   "metadata": {},
   "source": [
    "Genero los datos:"
   ]
  },
  {
   "cell_type": "code",
   "execution_count": 34,
   "metadata": {},
   "outputs": [
    {
     "name": "stdout",
     "output_type": "stream",
     "text": [
      "0.0 29.999000000000002\n",
      "  message: 'The solver successfully reached the end of the integration interval.'\n",
      "     nfev: 19040\n",
      "     njev: 0\n",
      "      nlu: 0\n",
      "      sol: None\n",
      "   status: 0\n",
      "  success: True\n",
      "        t: array([0.0000e+00, 1.0000e-03, 2.0000e-03, ..., 2.9997e+01, 2.9998e+01,\n",
      "       2.9999e+01])\n",
      " t_events: None\n",
      "        y: array([[ 1.00000000e+00,  1.00114760e+00,  1.00261366e+00, ...,\n",
      "         6.98315879e+04,  6.98345770e+04,  6.98375661e+04],\n",
      "       [ 1.00000000e+00,  1.00008896e+00,  1.00042437e+00, ...,\n",
      "         3.86436013e+04,  3.86451250e+04,  3.86466487e+04],\n",
      "       [ 1.00000000e+00,  1.31902682e+00,  1.66522747e+00, ...,\n",
      "         3.35507733e+03,  3.35507938e+03,  3.35508143e+03],\n",
      "       [ 6.28318531e-01,  4.67908092e-01,  3.71220808e-01, ...,\n",
      "        -4.89239242e-05, -6.44821454e-05, -7.90738539e-05],\n",
      "       [ 6.28318531e-01,  6.28318630e-01,  6.28318729e-01, ...,\n",
      "         4.71365796e-01,  4.71347604e-01,  4.71330377e-01],\n",
      "       [ 1.00000000e-04,  9.89854337e-05,  9.78315488e-05, ...,\n",
      "        -1.85786164e-02, -1.77321648e-02, -1.66637433e-02]])\n",
      " y_events: None\n"
     ]
    },
    {
     "data": {
      "image/png": "[encoded data removed]",
      "text/plain": [
       "<Figure size 432x288 with 1 Axes>"
      ]
     },
     "metadata": {
      "needs_background": "light"
     },
     "output_type": "display_data"
    },
    {
     "data": {
      "image/png": "[encoded data removed]",
      "text/plain": [
       "<Figure size 432x288 with 1 Axes>"
      ]
     },
     "metadata": {
      "needs_background": "light"
     },
     "output_type": "display_data"
    },
    {
     "data": {
      "image/png": "[encoded data removed]",
      "text/plain": [
       "<Figure size 432x288 with 1 Axes>"
      ]
     },
     "metadata": {
      "needs_background": "light"
     },
     "output_type": "display_data"
    },
    {
     "data": {
      "image/png": "[encoded data removed]",
      "text/plain": [
       "<Figure size 432x288 with 1 Axes>"
      ]
     },
     "metadata": {
      "needs_background": "light"
     },
     "output_type": "display_data"
    },
    {
     "name": "stdout",
     "output_type": "stream",
     "text": [
      "30000 (30000, 6)\n",
      "[[ 1.00000000e+00  1.00000000e+00  1.00000000e+00  6.28318531e-01\n",
      "   6.28318531e-01  1.00000000e-04]\n",
      " [ 1.00114760e+00  1.00008896e+00  1.31902682e+00  4.67908092e-01\n",
      "   6.28318630e-01  9.89854337e-05]\n",
      " [ 1.00261366e+00  1.00042437e+00  1.66522747e+00  3.71220808e-01\n",
      "   6.28318729e-01  9.78315488e-05]\n",
      " ...\n",
      " [ 6.98315879e+04  3.86436013e+04  3.35507733e+03 -4.89239242e-05\n",
      "   4.71365796e-01 -1.85786164e-02]\n",
      " [ 6.98345770e+04  3.86451250e+04  3.35507938e+03 -6.44821454e-05\n",
      "   4.71347604e-01 -1.77321648e-02]\n",
      " [ 6.98375661e+04  3.86466487e+04  3.35508143e+03 -7.90738539e-05\n",
      "   4.71330377e-01 -1.66637433e-02]]\n",
      "(30000, 6)\n"
     ]
    }
   ],
   "source": [
    "x_train, x_dot_train = calculate_data(max_time, paso_tiempo, coefs, inicial_values)\n",
    "print(x_train)\n",
    "print(x_train.shape)\n",
    "\n"
   ]
  },
  {
   "cell_type": "code",
   "execution_count": 35,
   "metadata": {},
   "outputs": [
    {
     "name": "stdout",
     "output_type": "stream",
     "text": [
      "x' = -248.8748 cos(x-v) + -158.8124 cos(x-alfa) + -149.3666 cos(x-theta) + 33.1674 cos(x-theta') + 3.5800 cos(y-v) + -3.6887 cos(y-alfa) + -108.8807 cos(y-theta) + 33.7104 cos(y-theta') + 1028.3619 cos(v-theta) + 73254.2819 cos(alfa-theta') + 69973.0651 cos(theta-theta') + -0.2756 alfa*cos(x-y) + -7.7502 theta*cos(x-y) + -247.4030 alfa*cos(x-v) + 245.9483 theta*cos(x-v) + 107.7445 theta'*cos(x-theta) + 1.8164 alfa*cos(y-v) + -7.1675 theta*cos(y-v) + -24.7931 theta*cos(y-alfa) + 46.7028 theta'*cos(y-alfa) + 28.7229 theta'*cos(y-theta) + -19.0302 theta'*cos(v-alfa) + 33.7149 theta'*cos(v-theta) + 73937.7711 theta'*cos(alfa-theta) + 968.4709 cos(x-y)/v + 1.7818 cos(x-y)/theta + 62.8507 cos(x-v)/theta + 19.1849 cos(x-alfa)/theta + 7.2351 cos(y-alfa)/theta + 27.7619 cos(v-alfa)/theta + -0.6253 sen(x-y) + -12.9638 sen(x-alfa) + 145.6683 sen(x-theta') + 100.0240 sen(y-theta') + 254.1761 sen(v-alfa) + -707.6184 sen(v-theta) + -61982.7104 sen(alfa-theta) + 178618.0309 sen(alfa-theta') + -124274.1724 sen(theta-theta') + -101.2912 alfa*sen(x-y) + 1.2336 theta*sen(x-y) + -0.5862 theta'*sen(x-y) + 21.7969 alfa*sen(x-v) + -103.2785 theta'*sen(x-theta) + -85.2705 alfa*sen(y-v) + -56.5022 theta'*sen(y-theta) + -792.8833 theta*sen(v-alfa) + -35.1519 theta'*sen(v-alfa) + 26.0054 theta'*sen(v-theta) + -139279.3263 theta'*sen(alfa-theta) + -67.1822 sen(x)/y + 1825.7528 sen(x)/v + -30.7559 sen(x)/theta + 517.5230 sen(y)/v + -23.9264 sen(y)/theta + 135.6596 sen(v)/theta + -32312.5491 sen(alfa)/theta + 218.2784 cos(x) + 63.4283 cos(y) + -1297.2097 cos(v) + 110773.4269 cos(alfa) + -169377.6055 cos(theta) + -66820.8701 cos(theta') + 184854.2577 theta*alfa^2 + 1156471.2322 theta'*alfa^2 + 198067.3661 theta'*theta^2 + 9.9871 alfa*x + -18.0074 alfa*y + 6.0225 alfa*v + 1.6832 theta*v + -131915.2621 theta*alfa + -290369.2055 theta'*theta\n",
      "y' = 152.0189 cos(theta-theta') + 4145.6449 theta'*cos(alfa-theta) + -298.8977 cos(x-y)/v + 7093.9949 sen(alfa-theta') + -240.2433 sen(theta-theta') + -1659.9394 theta'*sen(alfa-theta) + -4102.4986 sen(alfa)/theta + -7644.3465 theta'*theta^2 + -0.5070 alfa*v + 0.9472 theta*v + 8566.4931 theta'*theta\n",
      "v' = 1241.7593 cos(x-y) + 315.6625 cos(x-v) + -825.1764 cos(x-alfa) + 656.4405 cos(x-theta) + 18.4318 cos(x-theta') + 103.9546 cos(y-v) + 142.5774 cos(y-alfa) + -6.2719 cos(y-theta) + -116.4889 cos(y-theta') + -4577.1042 cos(v-alfa) + 17830.3013 cos(v-theta) + -199.4701 cos(v-theta') + 5717679.2014 cos(alfa-theta) + 8115209.5859 cos(alfa-theta') + -7122889.1614 cos(theta-theta') + -38.8503 alfa*cos(x-y) + -1230.0246 theta*cos(x-y) + 3.2504 theta'*cos(x-y) + 358.2028 alfa*cos(x-v) + -305.5113 theta*cos(x-v) + 6.0765 theta'*cos(x-v) + 436.0174 theta*cos(x-alfa) + -268.6202 theta'*cos(x-alfa) + 9.8464 theta'*cos(x-theta) + 67.0053 alfa*cos(y-v) + -96.2132 theta*cos(y-v) + -350.3260 theta*cos(y-alfa) + 78.4425 theta'*cos(y-alfa) + 51.1985 theta'*cos(y-theta) + 3902.5247 theta*cos(v-alfa) + 632.2235 theta'*cos(v-alfa) + -285.2431 theta'*cos(v-theta) + -4364728.7866 theta'*cos(alfa-theta) + 4635.0027 cos(x-y)/v + -313.6098 cos(x-y)/theta + -81.3070 cos(x-v)/theta + 29.7730 cos(x-alfa)/theta + -27.8616 cos(y-v)/theta + -8.2206 cos(y-alfa)/theta + 1339.9013 cos(v-alfa)/theta + -2.1121 sen(x-y) + 542.9331 sen(x-alfa) + -237.5783 sen(x-theta') + 496.0003 sen(y-alfa) + -356.7013 sen(y-theta) + 69.6051 sen(y-theta') + 12688.9004 sen(v-alfa) + -11445.6068 sen(v-theta) + 250.4463 sen(v-theta') + -4145847.9083 sen(alfa-theta) + -171735.5583 sen(alfa-theta') + -4173881.8204 sen(theta-theta') + 905.6173 alfa*sen(x-y) + 4.1909 theta*sen(x-y) + 19.2227 alfa*sen(x-v) + -903.2278 theta*sen(x-alfa) + 16.3112 theta'*sen(x-alfa) + -44.7366 theta'*sen(x-theta) + -78.8252 alfa*sen(y-v) + -331.0004 theta*sen(y-alfa) + -0.0257 theta'*sen(y-alfa) + 104.6321 theta'*sen(y-theta) + -21962.4869 theta*sen(v-alfa) + 91.2405 theta'*sen(v-alfa) + 295.3329 theta'*sen(v-theta) + -7272007.8902 theta'*sen(alfa-theta) + 180.6555 sen(x)/y + -84.1412 sen(x)/theta + 548.0377 sen(y)/v + -42.0733 sen(y)/theta + -231.2469 sen(v)/theta + 1448741.1777 sen(alfa)/theta + -46.8564 cos(x) + -20989.2907 cos(v) + -8185007.8753 cos(alfa) + 1348003.7514 cos(theta) + 133477.4206 cos(theta') + 5767845.0179 theta*alfa^2 + -137774.4531 theta'*theta^2 + 46.2454 alfa*x + -85.9839 alfa*y + -3443742.7153 theta*alfa + 345677.7738 theta'*alfa + -82318.8637 theta'*theta\n",
      "alfa' = -103.9693 cos(alfa-theta) + -0.0112 alfa*cos(x-v) + -0.0085 alfa*cos(y-v) + 0.0585 cos(x-y)/v + -0.8313 sen(alfa-theta) + -0.7837 sen(theta-theta') + -0.0079 alfa*sen(y-v) + -0.0025 sen(x)/y + 0.0340 sen(y)/v + -0.1202 cos(alfa) + 104.0800 cos(theta) + -99.4160 theta*alfa^2 + -376.5807 alfa*v + 99.1510 theta*alfa + 0.6126 theta'*theta\n",
      "theta' = 1.1674 theta'*cos(alfa-theta)\n",
      "theta'' = -819856.4300 cos(x-y) + 1253052.4299 cos(x-v) + -34841586.9181 cos(x-alfa) + 127354972.1903 cos(x-theta) + -1626449.0764 cos(x-theta') + -774030.0195 cos(y-v) + -61400883.0160 cos(y-alfa) + 198966334.9420 cos(y-theta) + -31892.4558 cos(y-theta') + -18131808.1926 cos(v-alfa) + 70719175.7881 cos(v-theta) + -3048787.4806 cos(v-theta') + -9805073775.4945 cos(alfa-theta) + 3043165776.6867 cos(alfa-theta') + -14041792170.8661 cos(theta-theta') + 131.5842 v*cos(x-y) + -35723219.7938 alfa*cos(x-y) + 1328525.0744 theta*cos(x-y) + -688066.9235 theta'*cos(x-y) + 3025432.2869 alfa*cos(x-v) + -2398999.0923 theta*cos(x-v) + -1169545.4367 theta'*cos(x-v) + 49096947.9267 theta*cos(x-alfa) + -5567567.4118 theta'*cos(x-alfa) + 5717310.4713 theta'*cos(x-theta) + 1708882.6820 alfa*cos(y-v) + -567011.3734 theta*cos(y-v) + -355062.2320 theta'*cos(y-v) + 57475163.0326 theta*cos(y-alfa) + 576489.6177 theta'*cos(y-alfa) + 586999.7637 theta'*cos(y-theta) + 14540766.6462 theta*cos(v-alfa) + 3507396.7216 theta'*cos(v-alfa) + -2017545.0803 theta'*cos(v-theta) + -6855342132.7266 theta'*cos(alfa-theta) + 138155590.3447 cos(x-y)/v + -149173.4093 cos(x-y)/theta + 16.0595 cos(x-y)/theta' + -14552.8863 cos(x-v)/theta + -1.4269 cos(x-v)/theta' + 10203933.0087 cos(x-alfa)/theta + -696.0326 cos(x-alfa)/theta' + 792.1882 cos(x-theta)/theta' + 548828.5132 cos(y-v)/theta + 3.8487 cos(y-v)/theta' + 17876160.7779 cos(y-alfa)/theta + -416.7776 cos(y-alfa)/theta' + 462.6790 cos(y-theta)/theta' + 6638005.3689 cos(v-alfa)/theta + -219.4646 cos(v-alfa)/theta' + 263.4289 cos(v-theta)/theta' + -414.8958 cos(alfa-theta)/theta' + -4996850.3053 sen(x-y) + 1118645.5039 sen(x-v) + 82363559.1282 sen(x-alfa) + -62815691.2586 sen(x-theta) + 1543559.5411 sen(x-theta') + -51131.8005 sen(y-v) + 126471450.6626 sen(y-alfa) + -117816886.9311 sen(y-theta) + 9594885.5592 sen(y-theta') + 48811542.0315 sen(v-alfa) + -48248561.0543 sen(v-theta) + 3490532.3605 sen(v-theta') + 14644825190.3910 sen(alfa-theta) + 782751516.0798 sen(alfa-theta') + -9396837345.2514 sen(theta-theta') + 268.7623 v*sen(x-y) + 66797.9861 alfa*sen(x-y) + 8301940.8938 theta*sen(x-y) + 343466.2569 theta'*sen(x-y) + -1259145.3517 alfa*sen(x-v) + -2159711.8740 theta*sen(x-v) + 183064.6320 theta'*sen(x-v) + -161139778.7934 theta*sen(x-alfa) + 3029908.8055 theta'*sen(x-alfa) + -2521543.6533 theta'*sen(x-theta) + -379320.3979 alfa*sen(y-v) + 126051.4161 theta*sen(y-v) + 2196199.1207 theta'*sen(y-v) + -241515419.6845 theta*sen(y-alfa) + -510238.5340 theta'*sen(y-alfa) + 1031902.2777 theta'*sen(y-theta) + -90254347.3044 theta*sen(v-alfa) + -2044295.7618 theta'*sen(v-alfa) + 352810.9151 theta'*sen(v-theta) + 831419997.7217 theta'*sen(alfa-theta) + -7582728.3318 sen(x)/y + 132562110.3488 sen(x)/v + -4633638.4802 sen(x)/theta + -376.7605 sen(x)/theta' + 31784187.3499 sen(y)/v + -3671241.7847 sen(y)/theta + -222.4811 sen(y)/theta' + 675656.7791 sen(v)/theta + -121.4067 sen(v)/theta' + -2308347721.4486 sen(alfa)/theta + -1457.4853 sen(alfa)/theta' + 773.7843 sen(theta)/theta' + -150415805.0941 cos(x) + -234132417.3003 cos(y) + -84530948.7283 cos(v) + 23852991235.9207 cos(alfa) + -9007476175.1111 cos(theta) + 13825646391.7007 cos(theta') + 97.0089 alfa*x^2 + -10.6235 theta*x^2 + -1030.2571 alfa*y^2 + 22.2790 theta*y^2 + -530.5071 alfa*v^2 + 328.6107 theta*v^2 + 14.3693 theta'*v^2 + 8636003444.3254 theta*alfa^2 + 35696993711.3622 theta'*alfa^2 + -54908809.3149 theta'*theta^2 + 2.5518 y*x + 477.8225 v*x + 174036207.2845 alfa*x + -2102298.3366 theta*x + 9764.2126 theta'*x + -768.8245 v*y + -277726608.7448 alfa*y + 3137318.7235 theta*y + -22743.9463 theta'*y + 10837705.4954 alfa*v + -404530.0287 theta*v + -70539.5360 theta'*v + -5726105481.8383 theta*alfa + 2280731256.0232 theta'*alfa + 11795181153.5233 theta'*theta\n"
     ]
    }
   ],
   "source": [
    "model = sindy_model(x_train, x_dot_train, paso_tiempo)"
   ]
  },
  {
   "cell_type": "code",
   "execution_count": 36,
   "metadata": {},
   "outputs": [
    {
     "name": "stdout",
     "output_type": "stream",
     "text": [
      "(30000,)\n"
     ]
    }
   ],
   "source": [
    "a = np.arange(0.0, max_time, paso_tiempo)\n",
    "print(a.shape)"
   ]
  },
  {
   "cell_type": "markdown",
   "metadata": {},
   "source": [
    "# Casos:"
   ]
  },
  {
   "cell_type": "markdown",
   "metadata": {},
   "source": [
    "## Caso 1: La piedra"
   ]
  },
  {
   "cell_type": "markdown",
   "metadata": {},
   "source": [
    "En este caso voy a simular la dinámica del punto, movimiento de una piedra, solo peso y resistencia. Empuje y sustentación son nulos"
   ]
  },
  {
   "cell_type": "code",
   "execution_count": 37,
   "metadata": {},
   "outputs": [],
   "source": [
    "#en este caso como no hay sust todos los cn son nulos al igual que los momentos\n",
    "paso_tiempo=0.001\n",
    "max_time = 100.0\n",
    "\n",
    "#parametros fisicos del cohete:\n",
    "param_cohe = {\n",
    "    'T': 0, #empuje\n",
    "    'm': 1, #masa\n",
    "    'rho': 1.225, #densidad\n",
    "    'd': 0.2, #diametro\n",
    "    'cntp': 0, #cntheta'\n",
    "    'cnap': 0,#cn alfa'\n",
    "    'cna': 0,#cnalfa\n",
    "    'Iy': 2/5*1*0.1**2,#inercia en el eje y de una esfera\n",
    "    'cma': 0,#cm alfa\n",
    "    'cmtp': 0,#60.934021,#cm theta'\n",
    "    'cmap': 0,#-225.731250,#cm alfa'\n",
    "    'cd0': 0.270000,\n",
    "    'g': 9.81, #gravedad\n",
    "}\n",
    "\n",
    "#coeficientes de las ecuaciones del cohete 2D:\n",
    "coefs = coefs_ecs(param_cohe)\n",
    "\n",
    "#valores iniciales:\n",
    "inicial_values = {\n",
    "    'x': 1.,\n",
    "    'y': 1.,\n",
    "    'vel': 1,\n",
    "    'alfa': 0.0001,\n",
    "    'theta': 0.0001, \n",
    "    'theta_dot': 0.0001 \n",
    "}\n",
    " #x,y,v, alfa, theta, theta'"
   ]
  },
  {
   "cell_type": "code",
   "execution_count": 38,
   "metadata": {},
   "outputs": [
    {
     "name": "stdout",
     "output_type": "stream",
     "text": [
      "0.0 99.999\n",
      "  message: 'The solver successfully reached the end of the integration interval.'\n",
      "     nfev: 176\n",
      "     njev: 0\n",
      "      nlu: 0\n",
      "      sol: None\n",
      "   status: 0\n",
      "  success: True\n",
      "        t: array([0.0000e+00, 1.0000e-03, 2.0000e-03, ..., 9.9997e+01, 9.9998e+01,\n",
      "       9.9999e+01])\n",
      " t_events: None\n",
      "        y: array([[ 1.00000000e+00,  1.00100000e+00,  1.00199999e+00, ...,\n",
      "         7.98145526e+00,  7.98145526e+00,  7.98145526e+00],\n",
      "       [ 1.00000000e+00,  9.99995095e-01,  9.99980380e-01, ...,\n",
      "        -4.21098425e+03, -4.21102769e+03, -4.21107113e+03],\n",
      "       [ 1.00000000e+00,  1.00004292e+00,  1.00018206e+00, ...,\n",
      "         4.34426790e+01,  4.34426839e+01,  4.34426888e+01],\n",
      "       [ 1.00000000e-04,  9.90981081e-03,  1.97177849e-02, ...,\n",
      "         1.58089603e+00,  1.58089613e+00,  1.58089623e+00],\n",
      "       [ 1.00000000e-04,  1.00100000e-04,  1.00200000e-04, ...,\n",
      "         1.00997000e-02,  1.00998000e-02,  1.00999000e-02],\n",
      "       [ 1.00000000e-04,  1.00000000e-04,  1.00000000e-04, ...,\n",
      "         1.00000000e-04,  1.00000000e-04,  1.00000000e-04]])\n",
      " y_events: None\n"
     ]
    },
    {
     "data": {
      "image/png": "[encoded data removed]",
      "text/plain": [
       "<Figure size 432x288 with 1 Axes>"
      ]
     },
     "metadata": {
      "needs_background": "light"
     },
     "output_type": "display_data"
    },
    {
     "data": {
      "image/png": "[encoded data removed]",
      "text/plain": [
       "<Figure size 432x288 with 1 Axes>"
      ]
     },
     "metadata": {
      "needs_background": "light"
     },
     "output_type": "display_data"
    },
    {
     "data": {
      "image/png": "[encoded data removed]",
      "text/plain": [
       "<Figure size 432x288 with 1 Axes>"
      ]
     },
     "metadata": {
      "needs_background": "light"
     },
     "output_type": "display_data"
    },
    {
     "name": "stderr",
     "output_type": "stream",
     "text": [
      "/usr/lib/python3/dist-packages/IPython/core/pylabtools.py:132: UserWarning: Creating legend with loc=\"best\" can be slow with large amounts of data.\n",
      "  fig.canvas.print_figure(bytes_io, **kw)\n"
     ]
    },
    {
     "data": {
      "image/png": "[encoded data removed]",
      "text/plain": [
       "<Figure size 432x288 with 1 Axes>"
      ]
     },
     "metadata": {
      "needs_background": "light"
     },
     "output_type": "display_data"
    },
    {
     "name": "stdout",
     "output_type": "stream",
     "text": [
      "100000 (100000, 6)\n"
     ]
    }
   ],
   "source": [
    "#genero los datos:\n",
    "x_train, x_dot_train = calculate_data(max_time, paso_tiempo, coefs, inicial_values)\n"
   ]
  },
  {
   "cell_type": "code",
   "execution_count": 39,
   "metadata": {},
   "outputs": [
    {
     "name": "stdout",
     "output_type": "stream",
     "text": [
      "[[ 1.00000000e+00  1.00000000e+00  1.00000000e+00  1.00000000e-04\n",
      "   1.00000000e-04  1.00000000e-04]\n",
      " [ 1.00100000e+00  9.99995095e-01  1.00004292e+00  9.90981081e-03\n",
      "   1.00100000e-04  1.00000000e-04]\n",
      " [ 1.00199999e+00  9.99980380e-01  1.00018206e+00  1.97177849e-02\n",
      "   1.00200000e-04  1.00000000e-04]\n",
      " ...\n",
      " [ 7.98145526e+00 -4.21098425e+03  4.34426790e+01  1.58089603e+00\n",
      "   1.00997000e-02  1.00000000e-04]\n",
      " [ 7.98145526e+00 -4.21102769e+03  4.34426839e+01  1.58089613e+00\n",
      "   1.00998000e-02  1.00000000e-04]\n",
      " [ 7.98145526e+00 -4.21107113e+03  4.34426888e+01  1.58089623e+00\n",
      "   1.00999000e-02  1.00000000e-04]]\n",
      "(100000, 6)\n",
      "[[ 1.00000000e+00  0.00000000e+00 -5.19540885e-03 -8.80999998e-04\n",
      "   1.00000000e-04  0.00000000e+00]\n",
      " [ 9.99994805e-01 -9.80997452e-03  9.10358648e-02 -9.71094805e-02\n",
      "   1.00000000e-04  9.91066152e-03]\n",
      " [ 9.99989609e-01 -1.96198981e-02  1.87238864e-01 -1.93283729e-01\n",
      "   1.00000000e-04  3.94499307e-02]\n",
      " ...\n",
      " [ 9.41222199e-10 -4.34426790e+01  4.87964796e-03 -2.25703286e-01\n",
      "   1.00000000e-04  2.98348238e+08]\n",
      " [ 9.41019734e-10 -4.34426839e+01  4.87744653e-03 -2.25703260e-01\n",
      "   1.00000000e-04  2.98351308e+08]\n",
      " [ 9.40797976e-10 -4.34426888e+01  4.87524558e-03 -2.25703235e-01\n",
      "   1.00000000e-04  2.98354377e+08]]\n",
      "(100000, 6)\n"
     ]
    }
   ],
   "source": [
    "print(x_train)\n",
    "print(x_train.shape)\n",
    "print(x_dot_train)\n",
    "print(x_dot_train.shape)"
   ]
  },
  {
   "cell_type": "code",
   "execution_count": 50,
   "metadata": {},
   "outputs": [
    {
     "name": "stdout",
     "output_type": "stream",
     "text": [
      "x' = 0.0000\n",
      "y' = -0.6987 alfa + -0.6186 v alfa\n",
      "v' = 14.3569 1 + -15.7657 x + 7.8872 alfa + 8.9525 x alfa + -5.5007 alfa^2\n",
      "alfa' = -0.3461 1 + 0.3956 v + -11.9659 alfa + -0.2538 v alfa + 7.7158 alfa^2\n",
      "theta' = 0.0000\n",
      "theta'' = -7601157.4182 1 + -7637626.6832 x + 2313081.0903 y + 3828817.1378 v + 17956072.0989 alfa + 33024183498.5663 theta + -711.4956 theta' + -63696.3449 x^2 + 163369.9279 x y + -263103.3117 x v + -4635708.2485 x alfa + 67958656320.4691 x theta + -770.5327 x theta' + -22735.9390 y v + -1689176.4126 y alfa + 1372165.5408 y theta + -2284.9103 y theta' + 35811.9520 v^2 + -582582.3781 v alfa + -8502886451.2302 v theta + 182.2592 v theta' + 366053.2699 alfa^2 + -118890913884.5477 alfa theta + 1795.9688 alfa theta'\n"
     ]
    }
   ],
   "source": [
    "#intento predecir con sindy:\n",
    "model = sindy_model(x_train, x_dot_train, paso_tiempo)\n",
    "#si pongo de valor inicial de la theta, alfa y theta' da error porque hace 1/0-------> arreglo?"
   ]
  },
  {
   "cell_type": "code",
   "execution_count": 41,
   "metadata": {},
   "outputs": [
    {
     "data": {
      "text/plain": [
       "False"
      ]
     },
     "execution_count": 41,
     "metadata": {},
     "output_type": "execute_result"
    }
   ],
   "source": [
    "np.any(np.isnan(x_dot_train))"
   ]
  },
  {
   "cell_type": "code",
   "execution_count": 42,
   "metadata": {},
   "outputs": [
    {
     "data": {
      "text/plain": [
       "True"
      ]
     },
     "execution_count": 42,
     "metadata": {},
     "output_type": "execute_result"
    }
   ],
   "source": [
    "np.all(np.isfinite(x_dot_train))"
   ]
  },
  {
   "cell_type": "code",
   "execution_count": 43,
   "metadata": {},
   "outputs": [
    {
     "data": {
      "text/plain": [
       "False"
      ]
     },
     "execution_count": 43,
     "metadata": {},
     "output_type": "execute_result"
    }
   ],
   "source": [
    "np.any(x_dot_train > np.finfo(np.float64).max)"
   ]
  },
  {
   "cell_type": "code",
   "execution_count": 44,
   "metadata": {},
   "outputs": [
    {
     "data": {
      "text/plain": [
       "0"
      ]
     },
     "execution_count": 44,
     "metadata": {},
     "output_type": "execute_result"
    }
   ],
   "source": [
    "np.isnan(x_train).sum()"
   ]
  },
  {
   "cell_type": "code",
   "execution_count": 45,
   "metadata": {},
   "outputs": [
    {
     "data": {
      "text/plain": [
       "0.0001"
      ]
     },
     "execution_count": 45,
     "metadata": {},
     "output_type": "execute_result"
    }
   ],
   "source": [
    "x_train[:, 5].min()"
   ]
  },
  {
   "cell_type": "markdown",
   "metadata": {},
   "source": [
    "## Pruebas con trayectoria proporcionada por matlab"
   ]
  },
  {
   "cell_type": "code",
   "execution_count": 51,
   "metadata": {},
   "outputs": [],
   "source": [
    "from os.path import dirname, join as pjoin\n",
    "\n",
    "import scipy.io as sio"
   ]
  },
  {
   "cell_type": "code",
   "execution_count": null,
   "metadata": {},
   "outputs": [],
   "source": []
  }
 ],
 "metadata": {
  "kernelspec": {
   "display_name": "Python 3",
   "language": "python",
   "name": "python3"
  },
  "language_info": {
   "codemirror_mode": {
    "name": "ipython",
    "version": 3
   },
   "file_extension": ".py",
   "mimetype": "text/x-python",
   "name": "python",
   "nbconvert_exporter": "python",
   "pygments_lexer": "ipython3",
   "version": "3.8.5"
  }
 },
 "nbformat": 4,
 "nbformat_minor": 4
}
