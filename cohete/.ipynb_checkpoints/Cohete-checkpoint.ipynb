{
 "cells": [
  {
   "cell_type": "code",
   "execution_count": 21,
   "metadata": {},
   "outputs": [],
   "source": [
    "import numpy as np\n",
    "import matplotlib.pyplot as plt\n",
    "from mpl_toolkits.mplot3d import Axes3D\n",
    "from scipy.integrate import odeint\n",
    "from scipy.integrate import solve_ivp\n",
    "import pysindy as ps\n",
    "import math"
   ]
  },
  {
   "cell_type": "markdown",
   "metadata": {},
   "source": [
    "Variables globales:"
   ]
  },
  {
   "cell_type": "code",
   "execution_count": 22,
   "metadata": {},
   "outputs": [],
   "source": [
    "paso_tiempo=0.1\n",
    "max_time = 1.0\n",
    "coefs = {'A': 5,\n",
    "               'B': 10,\n",
    "               'C': 15,\n",
    "               'D': 2,\n",
    "               'E': 6,\n",
    "               'F': 3,\n",
    "               'G': 1,\n",
    "               'H': 9,\n",
    "               'I': 8,\n",
    "               'J': 7}\n",
    "inicial_values = {'theta': 5,\n",
    "                 'alfa': 7,\n",
    "                 'vel': 4,\n",
    "                 'theta_dot': 3}"
   ]
  },
  {
   "cell_type": "markdown",
   "metadata": {},
   "source": [
    "Las incógnitas son theta, alfa, V, theta prima y alfa prima. Ecuaciones a modelar:"
   ]
  },
  {
   "cell_type": "code",
   "execution_count": 23,
   "metadata": {},
   "outputs": [],
   "source": [
    "def eqs(t_train, x0_train, a=coefs['A'], b=coefs['B'], c=coefs['C'], d=coefs['D'], e=coefs['E'], f=coefs['F'], \n",
    "        g=coefs['G'],h=coefs['H'], i=coefs['I'], j=coefs['J'], theta0=inicial_values['theta']):\n",
    "    \n",
    "    x0, y0, v0, alfa0, theta0, u0 = x0_train\n",
    "    \n",
    "    vel_dot = a*math.cos(alfa0) - b*v0**2 - c*math.sin(theta0-alfa0)\n",
    "    alfa_dot = d*theta_dot0 - e*v0*alfa0 - f*math.sin(alfa0)*1/v0 + g*math.cos(theta0 - alfa0)*1/v0\n",
    "    theta_dot_dot = h*alfa0*0.5/theta0*v0**2 + i*v0*u0*0.5/theta0 + j*v0*alfa_dot*0.5/theta0\n",
    "    \n",
    "    x_dot = v0*math.cos(theta0-alfa0)\n",
    "    y_dot = v0*math.sin(theta0-alfa0)\n",
    "    \n",
    "    theta_dot = u0\n",
    "    return x_dot, y_dot, vel_dot, alfa_dot, theta_dot, theta_dot_dot"
   ]
  },
  {
   "cell_type": "code",
   "execution_count": 49,
   "metadata": {},
   "outputs": [],
   "source": [
    "#x0_train = [x, y, v, alfa, theta, theta']\n",
    "def calculate_data(t_max =max_time, dt =paso_tiempo, \n",
    "                    a=coefs['A'], b=coefs['B'], c=coefs['C'], d=coefs['D'], e=coefs['E'], f=coefs['F'], \n",
    "                    g=coefs['G'], h=coefs['H'], i=coefs['I'], j=coefs['J'],\n",
    "                    x0_train=[1, 2, inicial_values['vel'], inicial_values['alfa'], \n",
    "                              inicial_values['theta'], 0]):\n",
    "    \n",
    "    t_train = np.arange(0.0, t_max, dt)\n",
    "    \n",
    "    x_train = np.ones((t_train.size, 5))\n",
    "    x0_train[5] = np.sqrt(h*x0_train[2]**2*x0_train[3] + i*x0_train[2]*)#AQUI MIRAR\n",
    "    #odeint resuelve edos dado en el primer argumento la funcion que devuelve las ecuaciones dx/dt = ...\n",
    "    x_train = solve_ivp(eqs, [0.0, t_max],x0_train, t_eval=t_train, \n",
    "                        args=(a,b,c,d,e,f,g,h,i,j)) \n",
    "\n",
    "    x_dot_train_measured = np.ones((t_train.size, 5)) #contiene, x',y',v',alfa',theta''\n",
    "    \n",
    "    print(type(x_train))\n",
    "    print(\"aqui------------------------------------------------------\")\n",
    "    print(x_train.y.shape)\n",
    "    print(x_train.y.T.shape)\n",
    "    print(x_train.y[0])\n",
    "    #print(x_train.y.T)\n",
    "    plt.plot(x_train.t, x_train.y.T)\n",
    "    plt.legend([\"a\", \"b\", \"c\", \"d\", \"e\"])\n",
    "    plt.show()\n",
    "    print(x_train)\n",
    "    for i in range(t_train.size):\n",
    "        x_dot_train_measured[i] = eqs(t_train, x_train[i], a,b,c,d,f,g,h,i,j, theta0=inicial_values['theta'])\n",
    "\n",
    "    \"\"\"\n",
    "    fig = plt.figure()\n",
    "    #ax = fig.gca(projection='2d')\n",
    "\n",
    "    plt.plot(x_train[:, 0], x_train[:, 1], lw=0.5)\n",
    "    plt.xlabel(\"X Axis\")\n",
    "    plt.ylabel(\"Y Axis\")\n",
    "    plt.title(\"Trayectoria\")\n",
    "\n",
    "    plt.show()\n",
    "    \"\"\"\n",
    "    return x_train, x_dot_train_measured"
   ]
  },
  {
   "cell_type": "markdown",
   "metadata": {},
   "source": [
    "Defino mi propia librería de funciones:"
   ]
  },
  {
   "cell_type": "code",
   "execution_count": 25,
   "metadata": {},
   "outputs": [],
   "source": [
    "def custom_library(poly_order=2):\n",
    "    library_functions = [\n",
    "        lambda theta, alfa : np.cos(theta-alfa),\n",
    "        lambda theta, alfa : np.sin(theta-alfa),\n",
    "        lambda alfa : np.sin(alfa),\n",
    "        lambda alfa : np.cos(alfa)\n",
    "    ]\n",
    "    library_function_names = [\n",
    "        lambda theta, alfa : 'cos(' + theta + '-' + alfa +')',\n",
    "        lambda theta, alfa : 'sen(' + theta + '-' + alfa +')',\n",
    "        lambda alfa : 'sen('  + alfa +')',\n",
    "        lambda alfa : 'cos('  + alfa +')'\n",
    "    ]\n",
    "    library = ps.CustomLibrary(\n",
    "                        library_functions=library_functions, \n",
    "                        function_names=library_function_names) + ps.PolynomialLibrary(degree=poly_order)\n",
    "    return library"
   ]
  },
  {
   "cell_type": "code",
   "execution_count": 26,
   "metadata": {},
   "outputs": [],
   "source": [
    "def sindy_model(x_train, x_dot_train, poly_order = 4, threshold = 0.2, terminos_ctes=False, dt=paso_tiempo):\n",
    "    # Fit the model, me creo el modelo dinámico \n",
    "\n",
    "    #pysindy calcula las ecs que gobierna el movimiento\n",
    "    model = ps.SINDy(\n",
    "        optimizer=ps.STLSQ(threshold=threshold, normalize=True,  fit_intercept=terminos_ctes),\n",
    "        feature_library=custom_library,#interaction_only=terminos_ctes,\n",
    "                                                         \n",
    "        feature_names=['m', 'a', 'aa'],\n",
    "    )\n",
    "\n",
    "    #la doc dice que en t hay que poner el time step\n",
    "    model.fit(x_train, t=dt, x_dot=x_dot_train, quiet=True)\n",
    "\n",
    "    #print(model.equations(precision=52))\n",
    "    model.print(precision=4)\n",
    "    #print(model.coefficients())\n",
    "    return model"
   ]
  },
  {
   "cell_type": "markdown",
   "metadata": {},
   "source": [
    "Genero los datos:"
   ]
  },
  {
   "cell_type": "code",
   "execution_count": 50,
   "metadata": {},
   "outputs": [
    {
     "name": "stdout",
     "output_type": "stream",
     "text": [
      "<class 'scipy.integrate._ivp.ivp.OdeResult'>\n",
      "aqui------------------------------------------------------\n",
      "(5, 10)\n",
      "(10, 5)\n",
      "[1.         1.02629392 1.03009651 1.03928298 1.0430424  1.04523265\n",
      " 1.04680778 1.04825182 1.04968716 1.05034581]\n"
     ]
    },
    {
     "data": {
      "image/png": "[encoded data removed]",
      "text/plain": [
       "<Figure size 432x288 with 1 Axes>"
      ]
     },
     "metadata": {
      "needs_background": "light"
     },
     "output_type": "display_data"
    },
    {
     "name": "stdout",
     "output_type": "stream",
     "text": [
      "  message: 'The solver successfully reached the end of the integration interval.'\n",
      "     nfev: 17636\n",
      "     njev: 0\n",
      "      nlu: 0\n",
      "      sol: None\n",
      "   status: 0\n",
      "  success: True\n",
      "        t: array([0. , 0.1, 0.2, 0.3, 0.4, 0.5, 0.6, 0.7, 0.8, 0.9])\n",
      " t_events: None\n",
      "        y: array([[ 1.00000000e+00,  1.02629392e+00,  1.03009651e+00,\n",
      "         1.03928298e+00,  1.04304240e+00,  1.04523265e+00,\n",
      "         1.04680778e+00,  1.04825182e+00,  1.04968716e+00,\n",
      "         1.05034581e+00],\n",
      "       [ 2.00000000e+00,  1.98033811e+00,  1.97732478e+00,\n",
      "         1.97584422e+00,  1.97815321e+00,  1.97896371e+00,\n",
      "         1.97956288e+00,  1.97982225e+00,  1.98017104e+00,\n",
      "         1.98048445e+00],\n",
      "       [ 4.00000000e+00,  8.65598861e-01,  5.18803326e-01,\n",
      "         4.15138877e-01,  2.08372135e-01,  1.23834085e-01,\n",
      "         6.36353326e-02,  8.02429203e-02,  7.44100781e-02,\n",
      "         6.59382061e-02],\n",
      "       [ 7.00000000e+00, -4.03612340e+01, -2.78571011e+02,\n",
      "        -9.33915465e+02, -2.36827503e+03, -4.66375043e+03,\n",
      "        -7.62029373e+03, -1.09569282e+04, -1.48249133e+04,\n",
      "        -1.92445849e+04],\n",
      "       [ 3.00000000e+00, -6.56178204e+02, -2.43201013e+03,\n",
      "        -5.93240606e+03, -1.08261524e+04, -1.47405063e+04,\n",
      "        -1.74163952e+04, -2.04912795e+04, -2.38352606e+04,\n",
      "        -2.75341621e+04]])\n",
      " y_events: None\n"
     ]
    },
    {
     "ename": "KeyError",
     "evalue": "0",
     "output_type": "error",
     "traceback": [
      "\u001b[0;31m---------------------------------------------------------------------------\u001b[0m",
      "\u001b[0;31mKeyError\u001b[0m                                  Traceback (most recent call last)",
      "\u001b[0;32m<ipython-input-50-06fddc676303>\u001b[0m in \u001b[0;36m<module>\u001b[0;34m\u001b[0m\n\u001b[0;32m----> 1\u001b[0;31m \u001b[0mx_train\u001b[0m\u001b[0;34m,\u001b[0m \u001b[0mx_dot_train\u001b[0m \u001b[0;34m=\u001b[0m \u001b[0mcalculate_data\u001b[0m\u001b[0;34m(\u001b[0m\u001b[0;34m)\u001b[0m\u001b[0;34m\u001b[0m\u001b[0;34m\u001b[0m\u001b[0m\n\u001b[0m\u001b[1;32m      2\u001b[0m \u001b[0mmodel\u001b[0m \u001b[0;34m=\u001b[0m \u001b[0msindy_model\u001b[0m\u001b[0;34m(\u001b[0m\u001b[0mx_train\u001b[0m\u001b[0;34m,\u001b[0m \u001b[0mx_dot_train\u001b[0m\u001b[0;34m)\u001b[0m\u001b[0;34m\u001b[0m\u001b[0;34m\u001b[0m\u001b[0m\n",
      "\u001b[0;32m<ipython-input-49-371084b8e553>\u001b[0m in \u001b[0;36mcalculate_data\u001b[0;34m(t_max, dt, a, b, c, d, e, f, g, h, i, j, x0_train)\u001b[0m\n\u001b[1;32m     26\u001b[0m     \u001b[0mprint\u001b[0m\u001b[0;34m(\u001b[0m\u001b[0mx_train\u001b[0m\u001b[0;34m)\u001b[0m\u001b[0;34m\u001b[0m\u001b[0;34m\u001b[0m\u001b[0m\n\u001b[1;32m     27\u001b[0m     \u001b[0;32mfor\u001b[0m \u001b[0mi\u001b[0m \u001b[0;32min\u001b[0m \u001b[0mrange\u001b[0m\u001b[0;34m(\u001b[0m\u001b[0mt_train\u001b[0m\u001b[0;34m.\u001b[0m\u001b[0msize\u001b[0m\u001b[0;34m)\u001b[0m\u001b[0;34m:\u001b[0m\u001b[0;34m\u001b[0m\u001b[0;34m\u001b[0m\u001b[0m\n\u001b[0;32m---> 28\u001b[0;31m         \u001b[0mx_dot_train_measured\u001b[0m\u001b[0;34m[\u001b[0m\u001b[0mi\u001b[0m\u001b[0;34m]\u001b[0m \u001b[0;34m=\u001b[0m \u001b[0meqs\u001b[0m\u001b[0;34m(\u001b[0m\u001b[0mt_train\u001b[0m\u001b[0;34m,\u001b[0m \u001b[0mx_train\u001b[0m\u001b[0;34m[\u001b[0m\u001b[0mi\u001b[0m\u001b[0;34m]\u001b[0m\u001b[0;34m,\u001b[0m \u001b[0ma\u001b[0m\u001b[0;34m,\u001b[0m\u001b[0mb\u001b[0m\u001b[0;34m,\u001b[0m\u001b[0mc\u001b[0m\u001b[0;34m,\u001b[0m\u001b[0md\u001b[0m\u001b[0;34m,\u001b[0m\u001b[0mf\u001b[0m\u001b[0;34m,\u001b[0m\u001b[0mg\u001b[0m\u001b[0;34m,\u001b[0m\u001b[0mh\u001b[0m\u001b[0;34m,\u001b[0m\u001b[0mi\u001b[0m\u001b[0;34m,\u001b[0m\u001b[0mj\u001b[0m\u001b[0;34m,\u001b[0m \u001b[0mtheta0\u001b[0m\u001b[0;34m=\u001b[0m\u001b[0minicial_values\u001b[0m\u001b[0;34m[\u001b[0m\u001b[0;34m'theta'\u001b[0m\u001b[0;34m]\u001b[0m\u001b[0;34m)\u001b[0m\u001b[0;34m\u001b[0m\u001b[0;34m\u001b[0m\u001b[0m\n\u001b[0m\u001b[1;32m     29\u001b[0m \u001b[0;34m\u001b[0m\u001b[0m\n\u001b[1;32m     30\u001b[0m     \"\"\"\n",
      "\u001b[0;31mKeyError\u001b[0m: 0"
     ]
    }
   ],
   "source": [
    "x_train, x_dot_train = calculate_data()\n",
    "model = sindy_model(x_train, x_dot_train)\n"
   ]
  },
  {
   "cell_type": "code",
   "execution_count": 30,
   "metadata": {},
   "outputs": [
    {
     "ename": "NameError",
     "evalue": "name 'x_train' is not defined",
     "output_type": "error",
     "traceback": [
      "\u001b[0;31m---------------------------------------------------------------------------\u001b[0m",
      "\u001b[0;31mNameError\u001b[0m                                 Traceback (most recent call last)",
      "\u001b[0;32m<ipython-input-30-2132a220a582>\u001b[0m in \u001b[0;36m<module>\u001b[0;34m\u001b[0m\n\u001b[0;32m----> 1\u001b[0;31m \u001b[0mx_train\u001b[0m\u001b[0;34m.\u001b[0m\u001b[0mshape\u001b[0m\u001b[0;34m\u001b[0m\u001b[0;34m\u001b[0m\u001b[0m\n\u001b[0m",
      "\u001b[0;31mNameError\u001b[0m: name 'x_train' is not defined"
     ]
    }
   ],
   "source": [
    "x_train.shape"
   ]
  },
  {
   "cell_type": "code",
   "execution_count": null,
   "metadata": {},
   "outputs": [],
   "source": []
  }
 ],
 "metadata": {
  "kernelspec": {
   "display_name": "Python 3",
   "language": "python",
   "name": "python3"
  },
  "language_info": {
   "codemirror_mode": {
    "name": "ipython",
    "version": 3
   },
   "file_extension": ".py",
   "mimetype": "text/x-python",
   "name": "python",
   "nbconvert_exporter": "python",
   "pygments_lexer": "ipython3",
   "version": "3.8.5"
  }
 },
 "nbformat": 4,
 "nbformat_minor": 4
}
