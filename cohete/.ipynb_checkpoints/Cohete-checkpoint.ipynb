{
 "cells": [
  {
   "cell_type": "code",
   "execution_count": 21,
   "metadata": {},
   "outputs": [],
   "source": [
    "import numpy as np\n",
    "import matplotlib.pyplot as plt\n",
    "from mpl_toolkits.mplot3d import Axes3D\n",
    "from scipy.integrate import odeint\n",
    "from scipy.integrate import solve_ivp\n",
    "import pysindy as ps\n",
    "import math"
   ]
  },
  {
   "cell_type": "markdown",
   "metadata": {},
   "source": [
    "Variables globales:"
   ]
  },
  {
   "cell_type": "code",
   "execution_count": 22,
   "metadata": {},
   "outputs": [],
   "source": [
    "paso_tiempo=0.1\n",
    "max_time = 1.0\n",
    "coefs = {'A': 5,\n",
    "               'B': 10,\n",
    "               'C': 15,\n",
    "               'D': 2,\n",
    "               'E': 6,\n",
    "               'F': 3,\n",
    "               'G': 1,\n",
    "               'H': 9,\n",
    "               'I': 8,\n",
    "               'J': 7}\n",
    "inicial_values = {'theta': 5,\n",
    "                 'alfa': 7,\n",
    "                 'vel': 4,\n",
    "                 'theta_dot': 3}"
   ]
  },
  {
   "cell_type": "markdown",
   "metadata": {},
   "source": [
    "Las incógnitas son theta, alfa, V, theta prima y alfa prima. Ecuaciones a modelar:"
   ]
  },
  {
   "cell_type": "code",
   "execution_count": 55,
   "metadata": {},
   "outputs": [],
   "source": [
    "def eqs(t_train, x0_train, a=coefs['A'], b=coefs['B'], c=coefs['C'], d=coefs['D'], e=coefs['E'], f=coefs['F'], \n",
    "        g=coefs['G'],h=coefs['H'], i=coefs['I'], j=coefs['J'], theta0=inicial_values['theta']):\n",
    "    \n",
    "    x0, y0, v0, alfa0, theta0, u0 = x0_train\n",
    "    \n",
    "    vel_dot = a*math.cos(alfa0) - b*v0**2 - c*math.sin(theta0-alfa0)\n",
    "    alfa_dot = d*u0 - e*v0*alfa0 - f*math.sin(alfa0)*1/v0 + g*math.cos(theta0 - alfa0)*1/v0\n",
    "    theta_dot_dot = h*alfa0*v0**2 + i*v0*u0 + j*v0*alfa_dot\n",
    "    \n",
    "    x_dot = v0*math.cos(theta0-alfa0)\n",
    "    y_dot = v0*math.sin(theta0-alfa0)\n",
    "    \n",
    "    theta_dot = u0\n",
    "    return x_dot, y_dot, vel_dot, alfa_dot, theta_dot, theta_dot_dot"
   ]
  },
  {
   "cell_type": "code",
   "execution_count": 57,
   "metadata": {},
   "outputs": [],
   "source": [
    "#x0_train = [x, y, v, alfa, theta, theta']\n",
    "def calculate_data(t_max =max_time, dt =paso_tiempo, \n",
    "                    a=coefs['A'], b=coefs['B'], c=coefs['C'], d=coefs['D'], e=coefs['E'], f=coefs['F'], \n",
    "                    g=coefs['G'], h=coefs['H'], i=coefs['I'], j=coefs['J'],\n",
    "                    x0_train=[1, 2, inicial_values['vel'], inicial_values['alfa'], \n",
    "                              inicial_values['theta'], inicial_values['theta_dot']]):\n",
    "    \n",
    "    t_train = np.arange(0.0, t_max, dt)\n",
    "    \n",
    "    sol = np.ones((t_train.size, 5))\n",
    "    \n",
    "    #odeint resuelve edos dado en el primer argumento la funcion que devuelve las ecuaciones dx/dt = ...\n",
    "    x_sol = solve_ivp(eqs, [0.0, t_max],x0_train, t_eval=t_train, args=(a,b,c,d,e,f,g,h,i,j)) \n",
    "\n",
    "    #[x, y, v, alfa, theta, theta']\n",
    "    x_dot_train_measured = np.ones((t_train.size, 5)) #contiene, x',y',v',alfa',theta''\n",
    "    \n",
    "    print(type(x_sol))\n",
    "    print(\"aqui------------------------------------------------------\")\n",
    "    print(x_sol.y.shape)\n",
    "\n",
    "    print(x_sol.y[0])\n",
    "    #print(x_train.y.T)\n",
    "    plt.plot(x_sol.t, x_sol.y.T)\n",
    "    plt.legend([\"x\", \"y\", \"v\", \"alfa\", \"theta\", \"theta'\"])\n",
    "    plt.show()\n",
    "    print(x_sol)\n",
    "    for i in range(t_train.size):\n",
    "        x_dot_train_measured[i] = eqs(t_train, x_sol.y[i], a,b,c,d,f,g,h,i,j)\n",
    "\n",
    "    \"\"\"\n",
    "    fig = plt.figure()\n",
    "    #ax = fig.gca(projection='2d')\n",
    "\n",
    "    plt.plot(x_train[:, 0], x_train[:, 1], lw=0.5)\n",
    "    plt.xlabel(\"X Axis\")\n",
    "    plt.ylabel(\"Y Axis\")\n",
    "    plt.title(\"Trayectoria\")\n",
    "\n",
    "    plt.show()\n",
    "    \"\"\"\n",
    "    return x_train, x_dot_train_measured"
   ]
  },
  {
   "cell_type": "markdown",
   "metadata": {},
   "source": [
    "Defino mi propia librería de funciones:"
   ]
  },
  {
   "cell_type": "code",
   "execution_count": 25,
   "metadata": {},
   "outputs": [],
   "source": [
    "def custom_library(poly_order=2):\n",
    "    library_functions = [\n",
    "        lambda theta, alfa : np.cos(theta-alfa),\n",
    "        lambda theta, alfa : np.sin(theta-alfa),\n",
    "        lambda alfa : np.sin(alfa),\n",
    "        lambda alfa : np.cos(alfa)\n",
    "    ]\n",
    "    library_function_names = [\n",
    "        lambda theta, alfa : 'cos(' + theta + '-' + alfa +')',\n",
    "        lambda theta, alfa : 'sen(' + theta + '-' + alfa +')',\n",
    "        lambda alfa : 'sen('  + alfa +')',\n",
    "        lambda alfa : 'cos('  + alfa +')'\n",
    "    ]\n",
    "    library = ps.CustomLibrary(\n",
    "                        library_functions=library_functions, \n",
    "                        function_names=library_function_names) + ps.PolynomialLibrary(degree=poly_order)\n",
    "    return library"
   ]
  },
  {
   "cell_type": "code",
   "execution_count": 26,
   "metadata": {},
   "outputs": [],
   "source": [
    "def sindy_model(x_train, x_dot_train, poly_order = 4, threshold = 0.2, terminos_ctes=False, dt=paso_tiempo):\n",
    "    # Fit the model, me creo el modelo dinámico \n",
    "\n",
    "    #pysindy calcula las ecs que gobierna el movimiento\n",
    "    model = ps.SINDy(\n",
    "        optimizer=ps.STLSQ(threshold=threshold, normalize=True,  fit_intercept=terminos_ctes),\n",
    "        feature_library=custom_library,#interaction_only=terminos_ctes,\n",
    "                                                         \n",
    "        feature_names=['m', 'a', 'aa'],\n",
    "    )\n",
    "\n",
    "    #la doc dice que en t hay que poner el time step\n",
    "    model.fit(x_train, t=dt, x_dot=x_dot_train, quiet=True)\n",
    "\n",
    "    #print(model.equations(precision=52))\n",
    "    model.print(precision=4)\n",
    "    #print(model.coefficients())\n",
    "    return model"
   ]
  },
  {
   "cell_type": "markdown",
   "metadata": {},
   "source": [
    "Genero los datos:"
   ]
  },
  {
   "cell_type": "code",
   "execution_count": 58,
   "metadata": {},
   "outputs": [
    {
     "name": "stdout",
     "output_type": "stream",
     "text": [
      "<class 'scipy.integrate._ivp.ivp.OdeResult'>\n",
      "aqui------------------------------------------------------\n",
      "(6, 10)\n",
      "[1.         1.03073438 1.0308248  1.03195304 1.03246565 1.03217563\n",
      " 1.03307291 1.03414227 1.03504373 1.03571684]\n"
     ]
    },
    {
     "data": {
      "image/png": "[encoded data removed]",
      "text/plain": [
       "<Figure size 432x288 with 1 Axes>"
      ]
     },
     "metadata": {
      "needs_background": "light"
     },
     "output_type": "display_data"
    },
    {
     "name": "stdout",
     "output_type": "stream",
     "text": [
      "  message: 'The solver successfully reached the end of the integration interval.'\n",
      "     nfev: 10844\n",
      "     njev: 0\n",
      "      nlu: 0\n",
      "      sol: None\n",
      "   status: 0\n",
      "  success: True\n",
      "        t: array([0. , 0.1, 0.2, 0.3, 0.4, 0.5, 0.6, 0.7, 0.8, 0.9])\n",
      " t_events: None\n",
      "        y: array([[ 1.00000000e+00,  1.03073438e+00,  1.03082480e+00,\n",
      "         1.03195304e+00,  1.03246565e+00,  1.03217563e+00,\n",
      "         1.03307291e+00,  1.03414227e+00,  1.03504373e+00,\n",
      "         1.03571684e+00],\n",
      "       [ 2.00000000e+00,  1.98481514e+00,  1.98392769e+00,\n",
      "         1.98327317e+00,  1.98284841e+00,  1.98225421e+00,\n",
      "         1.98157262e+00,  1.98145212e+00,  1.98134022e+00,\n",
      "         1.98126373e+00],\n",
      "       [ 4.00000000e+00,  8.03964529e-01,  4.88435561e-01,\n",
      "         2.82288457e-01,  1.94726199e-01,  1.80038741e-01,\n",
      "         1.76990691e-01,  1.51965469e-01,  1.01951096e-01,\n",
      "         7.16819650e-02],\n",
      "       [ 7.00000000e+00, -3.96156415e+01, -2.59224180e+02,\n",
      "        -8.25056331e+02, -1.84463883e+03, -3.36893274e+03,\n",
      "        -5.49218023e+03, -8.36976120e+03, -1.23432917e+04,\n",
      "        -1.75331781e+04],\n",
      "       [ 5.00000000e+00, -2.00060987e+01, -1.52368839e+02,\n",
      "        -4.87537583e+02, -1.08623175e+03, -1.98674130e+03,\n",
      "        -3.26332092e+03, -5.03243237e+03, -7.42871297e+03,\n",
      "        -1.03972811e+04],\n",
      "       [ 3.00000000e+00, -6.22365522e+02, -2.22712925e+03,\n",
      "        -4.59447762e+03, -7.42671356e+03, -1.07288307e+04,\n",
      "        -1.49601483e+04, -2.06433499e+04, -2.71170552e+04,\n",
      "        -3.22438405e+04]])\n",
      " y_events: None\n"
     ]
    },
    {
     "ename": "ValueError",
     "evalue": "too many values to unpack (expected 6)",
     "output_type": "error",
     "traceback": [
      "\u001b[0;31m---------------------------------------------------------------------------\u001b[0m",
      "\u001b[0;31mValueError\u001b[0m                                Traceback (most recent call last)",
      "\u001b[0;32m<ipython-input-58-06fddc676303>\u001b[0m in \u001b[0;36m<module>\u001b[0;34m\u001b[0m\n\u001b[0;32m----> 1\u001b[0;31m \u001b[0mx_train\u001b[0m\u001b[0;34m,\u001b[0m \u001b[0mx_dot_train\u001b[0m \u001b[0;34m=\u001b[0m \u001b[0mcalculate_data\u001b[0m\u001b[0;34m(\u001b[0m\u001b[0;34m)\u001b[0m\u001b[0;34m\u001b[0m\u001b[0;34m\u001b[0m\u001b[0m\n\u001b[0m\u001b[1;32m      2\u001b[0m \u001b[0mmodel\u001b[0m \u001b[0;34m=\u001b[0m \u001b[0msindy_model\u001b[0m\u001b[0;34m(\u001b[0m\u001b[0mx_train\u001b[0m\u001b[0;34m,\u001b[0m \u001b[0mx_dot_train\u001b[0m\u001b[0;34m)\u001b[0m\u001b[0;34m\u001b[0m\u001b[0;34m\u001b[0m\u001b[0m\n",
      "\u001b[0;32m<ipython-input-57-1c71ca4e69b4>\u001b[0m in \u001b[0;36mcalculate_data\u001b[0;34m(t_max, dt, a, b, c, d, e, f, g, h, i, j, x0_train)\u001b[0m\n\u001b[1;32m     27\u001b[0m     \u001b[0mprint\u001b[0m\u001b[0;34m(\u001b[0m\u001b[0mx_sol\u001b[0m\u001b[0;34m)\u001b[0m\u001b[0;34m\u001b[0m\u001b[0;34m\u001b[0m\u001b[0m\n\u001b[1;32m     28\u001b[0m     \u001b[0;32mfor\u001b[0m \u001b[0mi\u001b[0m \u001b[0;32min\u001b[0m \u001b[0mrange\u001b[0m\u001b[0;34m(\u001b[0m\u001b[0mt_train\u001b[0m\u001b[0;34m.\u001b[0m\u001b[0msize\u001b[0m\u001b[0;34m)\u001b[0m\u001b[0;34m:\u001b[0m\u001b[0;34m\u001b[0m\u001b[0;34m\u001b[0m\u001b[0m\n\u001b[0;32m---> 29\u001b[0;31m         \u001b[0mx_dot_train_measured\u001b[0m\u001b[0;34m[\u001b[0m\u001b[0mi\u001b[0m\u001b[0;34m]\u001b[0m \u001b[0;34m=\u001b[0m \u001b[0meqs\u001b[0m\u001b[0;34m(\u001b[0m\u001b[0mt_train\u001b[0m\u001b[0;34m,\u001b[0m \u001b[0mx_sol\u001b[0m\u001b[0;34m.\u001b[0m\u001b[0my\u001b[0m\u001b[0;34m[\u001b[0m\u001b[0mi\u001b[0m\u001b[0;34m]\u001b[0m\u001b[0;34m,\u001b[0m \u001b[0ma\u001b[0m\u001b[0;34m,\u001b[0m\u001b[0mb\u001b[0m\u001b[0;34m,\u001b[0m\u001b[0mc\u001b[0m\u001b[0;34m,\u001b[0m\u001b[0md\u001b[0m\u001b[0;34m,\u001b[0m\u001b[0mf\u001b[0m\u001b[0;34m,\u001b[0m\u001b[0mg\u001b[0m\u001b[0;34m,\u001b[0m\u001b[0mh\u001b[0m\u001b[0;34m,\u001b[0m\u001b[0mi\u001b[0m\u001b[0;34m,\u001b[0m\u001b[0mj\u001b[0m\u001b[0;34m)\u001b[0m\u001b[0;34m\u001b[0m\u001b[0;34m\u001b[0m\u001b[0m\n\u001b[0m\u001b[1;32m     30\u001b[0m \u001b[0;34m\u001b[0m\u001b[0m\n\u001b[1;32m     31\u001b[0m     \"\"\"\n",
      "\u001b[0;32m<ipython-input-55-3d510f43643b>\u001b[0m in \u001b[0;36meqs\u001b[0;34m(t_train, x0_train, a, b, c, d, e, f, g, h, i, j, theta0)\u001b[0m\n\u001b[1;32m      2\u001b[0m         g=coefs['G'],h=coefs['H'], i=coefs['I'], j=coefs['J'], theta0=inicial_values['theta']):\n\u001b[1;32m      3\u001b[0m \u001b[0;34m\u001b[0m\u001b[0m\n\u001b[0;32m----> 4\u001b[0;31m     \u001b[0mx0\u001b[0m\u001b[0;34m,\u001b[0m \u001b[0my0\u001b[0m\u001b[0;34m,\u001b[0m \u001b[0mv0\u001b[0m\u001b[0;34m,\u001b[0m \u001b[0malfa0\u001b[0m\u001b[0;34m,\u001b[0m \u001b[0mtheta0\u001b[0m\u001b[0;34m,\u001b[0m \u001b[0mu0\u001b[0m \u001b[0;34m=\u001b[0m \u001b[0mx0_train\u001b[0m\u001b[0;34m\u001b[0m\u001b[0;34m\u001b[0m\u001b[0m\n\u001b[0m\u001b[1;32m      5\u001b[0m \u001b[0;34m\u001b[0m\u001b[0m\n\u001b[1;32m      6\u001b[0m     \u001b[0mvel_dot\u001b[0m \u001b[0;34m=\u001b[0m \u001b[0ma\u001b[0m\u001b[0;34m*\u001b[0m\u001b[0mmath\u001b[0m\u001b[0;34m.\u001b[0m\u001b[0mcos\u001b[0m\u001b[0;34m(\u001b[0m\u001b[0malfa0\u001b[0m\u001b[0;34m)\u001b[0m \u001b[0;34m-\u001b[0m \u001b[0mb\u001b[0m\u001b[0;34m*\u001b[0m\u001b[0mv0\u001b[0m\u001b[0;34m**\u001b[0m\u001b[0;36m2\u001b[0m \u001b[0;34m-\u001b[0m \u001b[0mc\u001b[0m\u001b[0;34m*\u001b[0m\u001b[0mmath\u001b[0m\u001b[0;34m.\u001b[0m\u001b[0msin\u001b[0m\u001b[0;34m(\u001b[0m\u001b[0mtheta0\u001b[0m\u001b[0;34m-\u001b[0m\u001b[0malfa0\u001b[0m\u001b[0;34m)\u001b[0m\u001b[0;34m\u001b[0m\u001b[0;34m\u001b[0m\u001b[0m\n",
      "\u001b[0;31mValueError\u001b[0m: too many values to unpack (expected 6)"
     ]
    }
   ],
   "source": [
    "x_train, x_dot_train = calculate_data()\n",
    "model = sindy_model(x_train, x_dot_train)\n"
   ]
  },
  {
   "cell_type": "code",
   "execution_count": 30,
   "metadata": {},
   "outputs": [
    {
     "ename": "NameError",
     "evalue": "name 'x_train' is not defined",
     "output_type": "error",
     "traceback": [
      "\u001b[0;31m---------------------------------------------------------------------------\u001b[0m",
      "\u001b[0;31mNameError\u001b[0m                                 Traceback (most recent call last)",
      "\u001b[0;32m<ipython-input-30-2132a220a582>\u001b[0m in \u001b[0;36m<module>\u001b[0;34m\u001b[0m\n\u001b[0;32m----> 1\u001b[0;31m \u001b[0mx_train\u001b[0m\u001b[0;34m.\u001b[0m\u001b[0mshape\u001b[0m\u001b[0;34m\u001b[0m\u001b[0;34m\u001b[0m\u001b[0m\n\u001b[0m",
      "\u001b[0;31mNameError\u001b[0m: name 'x_train' is not defined"
     ]
    }
   ],
   "source": [
    "x_train.shape"
   ]
  },
  {
   "cell_type": "code",
   "execution_count": null,
   "metadata": {},
   "outputs": [],
   "source": []
  }
 ],
 "metadata": {
  "kernelspec": {
   "display_name": "Python 3",
   "language": "python",
   "name": "python3"
  },
  "language_info": {
   "codemirror_mode": {
    "name": "ipython",
    "version": 3
   },
   "file_extension": ".py",
   "mimetype": "text/x-python",
   "name": "python",
   "nbconvert_exporter": "python",
   "pygments_lexer": "ipython3",
   "version": "3.8.5"
  }
 },
 "nbformat": 4,
 "nbformat_minor": 4
}
