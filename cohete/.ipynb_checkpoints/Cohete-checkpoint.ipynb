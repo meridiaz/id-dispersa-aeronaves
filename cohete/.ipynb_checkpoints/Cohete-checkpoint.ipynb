{
 "cells": [
  {
   "cell_type": "code",
   "execution_count": 1,
   "metadata": {},
   "outputs": [],
   "source": [
    "import numpy as np\n",
    "import matplotlib.pyplot as plt\n",
    "from mpl_toolkits.mplot3d import Axes3D\n",
    "from scipy.integrate import odeint\n",
    "from scipy.integrate import solve_ivp\n",
    "import pysindy as ps\n",
    "import math\n",
    "from math import pi"
   ]
  },
  {
   "cell_type": "markdown",
   "metadata": {},
   "source": [
    "Variables globales:"
   ]
  },
  {
   "cell_type": "code",
   "execution_count": 2,
   "metadata": {},
   "outputs": [],
   "source": [
    "def coefs_ecs(p_c):\n",
    "    coefs = {\n",
    "        'A': p_c['T']/p_c['m'],\n",
    "        'B': (pi*p_c['rho']*p_c['cd0']*(p_c['d']**2))/(8*p_c['m']),\n",
    "        'C': p_c['g'],\n",
    "        'D': (1-pi*p_c['rho']*(p_c['d']**3)*p_c['cntp']/(16*p_c['m']))/(1+pi*p_c['rho']*(p_c['d']**3)*p_c['cnap']/(16*p_c['m'])),\n",
    "        'E': (pi*p_c['rho']*(p_c['d']**2)*p_c['cna']/(16*p_c['m']))/(1+pi*p_c['rho']*(p_c['d']**3)*p_c['cnap']/(16*p_c['m'])),\n",
    "        'F': (p_c['T'])/(p_c['m']+pi*p_c['rho']*(p_c['d']**3)*p_c['cnap']/(16)),\n",
    "        'G': p_c['g']/(1+pi*p_c['rho']*(p_c['d']**3)*p_c['cnap']/(16*p_c['m'])),\n",
    "        'H': (pi*p_c['rho']*(p_c['d']**3)*p_c['cma'])/(8*p_c['Iy']),\n",
    "        'I': (pi*p_c['rho']*(p_c['d']**4)*p_c['cmtp'])/(16*p_c['Iy']),\n",
    "        'J': (pi*p_c['rho']*(p_c['d']**4)*p_c['cmap'])/(16*p_c['Iy'])\n",
    "    }\n",
    "    return coefs"
   ]
  },
  {
   "cell_type": "code",
   "execution_count": 3,
   "metadata": {},
   "outputs": [],
   "source": [
    "#que son los coeficiente del cn??????????? \n",
    "paso_tiempo=0.001\n",
    "max_time = 30.0\n",
    "\n",
    "#parametros fisicos del cohete:\n",
    "param_cohe = {\n",
    "    'T': 0, #empuje\n",
    "    'm': 77.4, #masa\n",
    "    'rho': 1.225, #densidad\n",
    "    'd': 0.14, #diametro\n",
    "    'cntp': 67.934021, #cntheta'\n",
    "    'cnap': 50.813892,#cn alfa'\n",
    "    'cna': 0.415000,#cnalfa\n",
    "    'Iy': 35.63,#inercia en el eje y\n",
    "    'cma': -35.581600,#cm alfa\n",
    "    'cmtp': 0,#60.934021,#cm theta'\n",
    "    'cmap': 0,#-225.731250,#cm alfa'\n",
    "    'cd0': 0.270000,#fallo en el pdf???????????????????? \n",
    "    'g': 9.81, #gravedad\n",
    "}\n",
    "\n",
    "#coeficientes de las ecuaciones del cohete 2D:\n",
    "coefs = coefs_ecs(param_cohe)\n",
    "\n",
    "#valores iniciales:\n",
    "inicial_values = {\n",
    "    'x': 1.,\n",
    "    'y': 1.,\n",
    "    'vel': 1,\n",
    "    'alfa': 0,\n",
    "    'theta': 0, #40 grados\n",
    "    'theta_dot': 0 \n",
    "}\n",
    " #x,y,v, alfa, theta, theta'"
   ]
  },
  {
   "cell_type": "markdown",
   "metadata": {},
   "source": [
    "Las incógnitas son theta, alfa, V, theta prima y alfa prima. Ecuaciones a modelar:"
   ]
  },
  {
   "cell_type": "code",
   "execution_count": 4,
   "metadata": {},
   "outputs": [],
   "source": [
    "def eqs(t_train, x0_train, a=coefs['A'], b=coefs['B'], c=coefs['C'], d=coefs['D'], e=coefs['E'], f=coefs['F'], \n",
    "        g=coefs['G'],h=coefs['H'], i=coefs['I'], jota=coefs['J']):\n",
    "    \n",
    "    x0, y0, v0, alfa0, theta0, u0 = x0_train\n",
    "    \n",
    "    vel_dot = a*math.cos(alfa0) - b*v0**2 - c*math.sin(theta0-alfa0)\n",
    "    alfa_dot = d*u0 - e*v0*alfa0 - f*math.sin(alfa0)*1/v0 + g*math.cos(theta0 - alfa0)*1/v0\n",
    "    theta_dot_dot = h*alfa0*v0**2 + i*v0*u0 + jota*v0*alfa_dot\n",
    "    \n",
    "    x_dot = v0*math.cos(theta0-alfa0)\n",
    "    y_dot = v0*math.sin(theta0-alfa0)\n",
    "    \n",
    "    theta_dot = u0\n",
    "    return x_dot, y_dot, vel_dot, alfa_dot, theta_dot, theta_dot_dot"
   ]
  },
  {
   "cell_type": "code",
   "execution_count": 5,
   "metadata": {},
   "outputs": [],
   "source": [
    "#x0_train = [x, y, v, alfa, theta, theta']\n",
    "def calculate_data(t_max=max_time, dt=paso_tiempo, coefs):\n",
    "    \n",
    "    t_train = np.arange(0.0, t_max, dt)\n",
    "    a=coefs['A']\n",
    "    b=coefs['B'], c=coefs['C'], d=coefs['D'], e=coefs['E'], f=coefs['F'], \n",
    "                    g=coefs['G'], h=coefs['H'], i=coefs['I'], jota=coefs['J'],\n",
    "                    x0_train=[inicial_values['x'], inicial_values['y'], inicial_values['vel'], \n",
    "                              inicial_values['alfa'], inicial_values['theta'], inicial_values['theta_dot']]\n",
    "    #sol = np.ones((t_train.size, 5))\n",
    "    print(t_train[0], t_train[-1])\n",
    "    \n",
    "    x_sol = solve_ivp(eqs, (t_train[0], t_train[-1]), x0_train, args=(a,b,c,d,e,f,g,h,i,jota), t_eval=t_train) \n",
    "    #[x, y, v, alfa, theta, theta']\n",
    "    print(x_sol)\n",
    "    \n",
    "    x_dot_train_measured = np.ones((t_train.size, 6)) #contiene, x',y',v',alfa',theta''\n",
    "    \n",
    "   \n",
    "    fig = plt.figure()\n",
    "    #ax = fig.gca(projection='2d')\n",
    "\n",
    "    plt.plot(x_sol.t, x_sol.y.T[:, 0], lw=0.5)\n",
    "    plt.xlabel(\"tiempo\")\n",
    "    plt.ylabel(\"posicion en x\")\n",
    "    plt.title(\"Trayectoria en x\")\n",
    "\n",
    "    plt.show()\n",
    "    \n",
    "    fig = plt.figure()\n",
    "    #ax = fig.gca(projection='2d')\n",
    "\n",
    "    plt.plot(x_sol.t, x_sol.y.T[:, 1], lw=0.5)\n",
    "    plt.xlabel(\"tiempo\")\n",
    "    plt.ylabel(\"posicion y\")\n",
    "    plt.title(\"Trayectoria en y\")\n",
    "\n",
    "    plt.show()\n",
    "    \n",
    "    fig = plt.figure()\n",
    "    #ax = fig.gca(projection='2d')\n",
    "\n",
    "    plt.plot(x_sol.y.T[:, 0], x_sol.y.T[:, 1], lw=0.5)\n",
    "    plt.xlabel(\"tiempo\")\n",
    "    plt.ylabel(\"posicion y\")\n",
    "    plt.title(\"posicion x frente a y\")\n",
    "\n",
    "    plt.show()\n",
    "   \n",
    "    plt.plot(x_sol.t, x_sol.y.T[:, 2:5])\n",
    "    plt.legend([\"vel\",\"alfa\", \"theta\"])\n",
    "    plt.show()\n",
    "    print(t_train.size, x_sol.y.T.shape)\n",
    "    for i in range(t_train.size):\n",
    "        x_dot_train_measured[i, :] = eqs(t_train, x_sol.y.T[i, :], a,b,c,d,f,g,h,i,jota)\n",
    "\n",
    "    \n",
    "    \n",
    "    \n",
    "    return x_sol.y.T, x_dot_train_measured"
   ]
  },
  {
   "cell_type": "markdown",
   "metadata": {},
   "source": [
    "Defino mi propia librería de funciones:"
   ]
  },
  {
   "cell_type": "code",
   "execution_count": 6,
   "metadata": {},
   "outputs": [],
   "source": [
    "def custom_library(poly_order=2):\n",
    "    library_functions = [\n",
    "        #lambda theta, alfa : np.cos(theta-alfa),\n",
    "        #lambda theta, alfa : np.sin(theta-alfa),\n",
    "        lambda alfa : np.sin(alfa),\n",
    "        lambda alfa : np.cos(alfa),\n",
    "        #lambda v: v**2,\n",
    "        lambda v, alfa: np.sin(alfa)/v \n",
    "    ]\n",
    "    library_function_names = [\n",
    "        #lambda theta, alfa : 'cos(' + theta + '-' + alfa +')',\n",
    "        #lambda theta, alfa : 'sen(' + theta + '-' + alfa +')',\n",
    "        lambda alfa : 'sen('  + alfa +')',\n",
    "        lambda alfa : 'cos('  + alfa +')',\n",
    "        #lambda v: v + '^2',\n",
    "        lambda v, alfa: 'sen(' + alfa + ')/' + v \n",
    "    ]\n",
    "    library = ps.CustomLibrary(\n",
    "                        library_functions=library_functions, \n",
    "                        function_names=library_function_names) + ps.PolynomialLibrary(degree=poly_order)\n",
    "    return library"
   ]
  },
  {
   "cell_type": "code",
   "execution_count": 7,
   "metadata": {},
   "outputs": [],
   "source": [
    "def custom_library2(poly_order=2):\n",
    "    library_functions = [\n",
    "        #lambda theta, alfa : np.cos(theta-alfa),\n",
    "        #lambda theta, alfa, v : v*np.cos(theta-alfa),\n",
    "        #lambda theta, alfa, v : np.cos(theta-alfa)*1./v,\n",
    "        #lambda theta, alfa : np.sin(theta-alfa),\n",
    "        #lambda theta, alfa, v : v*np.sin(theta-alfa),\n",
    "        lambda alfa : np.sin(alfa),\n",
    "        #lambda alfa, v : np.sin(alfa)*1./v,\n",
    "        lambda alfa : np.cos(alfa),\n",
    "        #lambda v: 1./v,\n",
    "        \n",
    "    ]\n",
    "    library_function_names = [\n",
    "        #lambda theta, alfa : 'cos(' + theta + '-' + alfa +')',\n",
    "        #lambda theta, alfa, v : v + '*' + 'cos(' + theta + '-' + alfa +')',\n",
    "        #lambda theta, alfa, v : 'cos(' + theta + '-' + alfa +')/' + v,\n",
    "        #lambda theta, alfa : 'sen(' + theta + '-' + alfa +')',\n",
    "        #lambda theta, alfa, v : v + '*' + 'sen(' + theta + '-' + alfa +')',\n",
    "        lambda alfa : 'sen('  + alfa +')',\n",
    "        #lambda alfa, v : 'sen('  + alfa +')/' + v,\n",
    "        lambda alfa : 'cos('  + alfa +')',\n",
    "        #lambda v :  '1/' + v,\n",
    "        \n",
    "    ]\n",
    "    library = ps.CustomLibrary(\n",
    "                        library_functions=library_functions, \n",
    "                        function_names=library_function_names) + ps.PolynomialLibrary(degree=poly_order)\n",
    "    return library"
   ]
  },
  {
   "cell_type": "code",
   "execution_count": 8,
   "metadata": {},
   "outputs": [],
   "source": [
    "def sindy_model(x_train, x_dot_train, threshold = 0.2, terminos_ctes=False, dt=paso_tiempo):\n",
    "    # Fit the model, me creo el modelo dinámico \n",
    "\n",
    "    #pysindy calcula las ecs que gobierna el movimiento\n",
    "    model = ps.SINDy(\n",
    "        optimizer=ps.STLSQ(threshold=threshold, normalize=True,  fit_intercept=terminos_ctes),\n",
    "        feature_library=custom_library2(),#interaction_only=terminos_ctes,\n",
    "                                                         \n",
    "        feature_names=['x', 'y', 'v', 'alfa', 'theta', \"theta'\"],\n",
    "    )\n",
    "\n",
    "    #la doc dice que en t hay que poner el time step\n",
    "    model.fit(x_train, t=dt, x_dot=x_dot_train, quiet=True)\n",
    "\n",
    "    #print(model.equations(precision=52))\n",
    "    model.print(precision=4)\n",
    "    #print(model.coefficients())\n",
    "    return model"
   ]
  },
  {
   "cell_type": "markdown",
   "metadata": {},
   "source": [
    "Genero los datos:"
   ]
  },
  {
   "cell_type": "code",
   "execution_count": 9,
   "metadata": {},
   "outputs": [
    {
     "name": "stdout",
     "output_type": "stream",
     "text": [
      "0.0 29.999000000000002\n",
      "  message: 'The solver successfully reached the end of the integration interval.'\n",
      "     nfev: 932\n",
      "     njev: 0\n",
      "      nlu: 0\n",
      "      sol: None\n",
      "   status: 0\n",
      "  success: True\n",
      "        t: array([0.0000e+00, 1.0000e-03, 2.0000e-03, ..., 2.9997e+01, 2.9998e+01,\n",
      "       2.9999e+01])\n",
      " t_events: None\n",
      "        y: array([[ 1.00000000e+00,  1.00100000e+00,  1.00200000e+00, ...,\n",
      "         2.88254622e+01,  2.88263392e+01,  2.88272150e+01],\n",
      "       [ 1.00000000e+00,  9.99995097e-01,  9.99980388e-01, ...,\n",
      "        -4.21462025e+03, -4.21488902e+03, -4.21515779e+03],\n",
      "       [ 1.00000000e+00,  1.00004806e+00,  1.00019230e+00, ...,\n",
      "         2.68762699e+02,  2.68770133e+02,  2.68777567e+02],\n",
      "       [ 0.00000000e+00,  9.80543684e-03,  1.96089883e-02, ...,\n",
      "        -1.03553343e-01, -1.06867116e-01, -1.10170702e-01],\n",
      "       [ 0.00000000e+00, -2.15439900e-12, -1.72364519e-11, ...,\n",
      "        -1.67108462e+00, -1.67440258e+00, -1.67771037e+00],\n",
      "       [ 0.00000000e+00, -6.46330294e-09, -2.58556954e-08, ...,\n",
      "        -3.32294845e+00, -3.31292997e+00, -3.30259587e+00]])\n",
      " y_events: None\n"
     ]
    },
    {
     "data": {
      "image/png": "[encoded data removed]",
      "text/plain": [
       "<Figure size 432x288 with 1 Axes>"
      ]
     },
     "metadata": {
      "needs_background": "light"
     },
     "output_type": "display_data"
    },
    {
     "data": {
      "image/png": "[encoded data removed]",
      "text/plain": [
       "<Figure size 432x288 with 1 Axes>"
      ]
     },
     "metadata": {
      "needs_background": "light"
     },
     "output_type": "display_data"
    },
    {
     "data": {
      "image/png": "[encoded data removed]",
      "text/plain": [
       "<Figure size 432x288 with 1 Axes>"
      ]
     },
     "metadata": {
      "needs_background": "light"
     },
     "output_type": "display_data"
    },
    {
     "data": {
      "image/png": "[encoded data removed]",
      "text/plain": [
       "<Figure size 432x288 with 1 Axes>"
      ]
     },
     "metadata": {
      "needs_background": "light"
     },
     "output_type": "display_data"
    },
    {
     "name": "stdout",
     "output_type": "stream",
     "text": [
      "30000 (30000, 6)\n",
      "[[ 1.00000000e+00  1.00000000e+00  1.00000000e+00  0.00000000e+00\n",
      "   0.00000000e+00  0.00000000e+00]\n",
      " [ 1.00100000e+00  9.99995097e-01  1.00004806e+00  9.80543684e-03\n",
      "  -2.15439900e-12 -6.46330294e-09]\n",
      " [ 1.00200000e+00  9.99980388e-01  1.00019230e+00  1.96089883e-02\n",
      "  -1.72364519e-11 -2.58556954e-08]\n",
      " ...\n",
      " [ 2.88254622e+01 -4.21462025e+03  2.68762699e+02 -1.03553343e-01\n",
      "  -1.67108462e+00 -3.32294845e+00]\n",
      " [ 2.88263392e+01 -4.21488902e+03  2.68770133e+02 -1.06867116e-01\n",
      "  -1.67440258e+00 -3.31292997e+00]\n",
      " [ 2.88272150e+01 -4.21515779e+03  2.68777567e+02 -1.10170702e-01\n",
      "  -1.67771037e+00 -3.30259587e+00]]\n",
      "(30000, 6)\n"
     ]
    }
   ],
   "source": [
    "x_train, x_dot_train = calculate_data()\n",
    "print(x_train)\n",
    "print(x_train.shape)\n",
    "\n"
   ]
  },
  {
   "cell_type": "code",
   "execution_count": 10,
   "metadata": {},
   "outputs": [
    {
     "name": "stdout",
     "output_type": "stream",
     "text": [
      "x' = 0.9275 1\n",
      "y' = -1.0000 v\n",
      "v' = 5.7401 sen(alfa) + -5.3658 cos(theta) + 7.5021 1 + -2.9582 x + 0.7826 v + 3.9512 alfa + 1.3589 x alfa + -1.3390 x theta + -0.4510 v alfa + 0.4487 v theta + -1.4519 alfa^2 + 1.3887 theta^2\n",
      "alfa' = -4.5612 sen(alfa) + -5.3172 sen(theta) + -4.1485 cos(alfa) + 4.5218 cos(theta) + -3.0574 1 + 2.8306 v + -6.2172 alfa + 1.0336 theta' + -1.8030 v alfa + 1.8012 v theta + 4.5605 alfa^2 + -3.9665 alfa theta\n",
      "theta' = 1.0000 theta'\n",
      "theta'' = 254100.2172 sen(x) + -2460.0454 sen(y) + -117225.9380 sen(v) + 600175337.0336 sen(alfa) + -1872240016.6092 sen(theta) + -39636.6246 sen(theta') + 133771.6772 cos(x) + -12013.7613 cos(y) + 97827.8467 cos(v) + -2045552020.7127 cos(alfa) + -559418243.4886 cos(theta) + 23284.7669 cos(theta') + -23847908431.0974 1 + 99659208957.8652 x + -17558864167.6919 y + -12616200944.7287 v + -11321551139.4144 alfa + -3517529646.2126 theta + -26012091353.7725 theta' + -52891170169.7672 x^2 + -31481123.5579 x y + 10364057911.9886 x v + -2949641243.1648 x alfa + 1697163811.4402 x theta + 597904489.8211 x theta' + 8622.9155 y^2 + 2982818.1617 y v + 11564376091.9724 y alfa + -11553783379.0843 y theta + 178141.9415 y theta' + -479959727.2562 v^2 + 1770653047.7987 v alfa + -1651837170.5206 v theta + -45711472.1520 v theta' + 64999266.2188 alfa^2 + 9891624858.8400 alfa theta + 16078070752.9605 alfa theta' + -10092910036.0291 theta^2 + -16047621894.4558 theta theta' + 441252.6237 theta'^2\n"
     ]
    }
   ],
   "source": [
    "model = sindy_model(x_train, x_dot_train)"
   ]
  },
  {
   "cell_type": "code",
   "execution_count": 11,
   "metadata": {},
   "outputs": [
    {
     "name": "stdout",
     "output_type": "stream",
     "text": [
      "(30000,)\n"
     ]
    }
   ],
   "source": [
    "a = np.arange(0.0, max_time, paso_tiempo)\n",
    "print(a.shape)"
   ]
  },
  {
   "cell_type": "markdown",
   "metadata": {},
   "source": [
    "# Casos:"
   ]
  },
  {
   "cell_type": "markdown",
   "metadata": {},
   "source": [
    "## Caso 1: La piedra"
   ]
  },
  {
   "cell_type": "markdown",
   "metadata": {},
   "source": [
    "En este caso voy a simular la dinámica del punto, movimiento de una piedra, solo peso y resistencia. Empuje y sustentación son nulos"
   ]
  },
  {
   "cell_type": "code",
   "execution_count": 12,
   "metadata": {},
   "outputs": [],
   "source": [
    "#en este caso como no hay sust todos los cn son nulos al igual que los momentos\n",
    "paso_tiempo=0.001\n",
    "max_time = 100.0\n",
    "\n",
    "#parametros fisicos del cohete:\n",
    "param_cohe = {\n",
    "    'T': 0, #empuje\n",
    "    'm': 1, #masa\n",
    "    'rho': 1.225, #densidad\n",
    "    'd': 0.2, #diametro\n",
    "    'cntp': 0, #cntheta'\n",
    "    'cnap': 0,#cn alfa'\n",
    "    'cna': 0,#cnalfa\n",
    "    'Iy': 2/5*1*0.1**2,#inercia en el eje y de una esfera\n",
    "    'cma': 0,#cm alfa\n",
    "    'cmtp': 0,#60.934021,#cm theta'\n",
    "    'cmap': 0,#-225.731250,#cm alfa'\n",
    "    'cd0': 0.270000,\n",
    "    'g': 9.81, #gravedad\n",
    "}\n",
    "\n",
    "#coeficientes de las ecuaciones del cohete 2D:\n",
    "coefs = coefs_ecs(param_cohe)\n",
    "\n",
    "#valores iniciales:\n",
    "inicial_values = {\n",
    "    'x': 1.,\n",
    "    'y': 1.,\n",
    "    'vel': 1,\n",
    "    'alfa': 0,\n",
    "    'theta': 0, \n",
    "    'theta_dot': 0 \n",
    "}\n",
    " #x,y,v, alfa, theta, theta'"
   ]
  },
  {
   "cell_type": "code",
   "execution_count": 23,
   "metadata": {},
   "outputs": [
    {
     "name": "stdout",
     "output_type": "stream",
     "text": [
      "0.0 29.999000000000002\n",
      "  message: 'The solver successfully reached the end of the integration interval.'\n",
      "     nfev: 932\n",
      "     njev: 0\n",
      "      nlu: 0\n",
      "      sol: None\n",
      "   status: 0\n",
      "  success: True\n",
      "        t: array([0.0000e+00, 1.0000e-03, 2.0000e-03, ..., 2.9997e+01, 2.9998e+01,\n",
      "       2.9999e+01])\n",
      " t_events: None\n",
      "        y: array([[ 1.00000000e+00,  1.00100000e+00,  1.00200000e+00, ...,\n",
      "         2.88254622e+01,  2.88263392e+01,  2.88272150e+01],\n",
      "       [ 1.00000000e+00,  9.99995097e-01,  9.99980388e-01, ...,\n",
      "        -4.21462025e+03, -4.21488902e+03, -4.21515779e+03],\n",
      "       [ 1.00000000e+00,  1.00004806e+00,  1.00019230e+00, ...,\n",
      "         2.68762699e+02,  2.68770133e+02,  2.68777567e+02],\n",
      "       [ 0.00000000e+00,  9.80543684e-03,  1.96089883e-02, ...,\n",
      "        -1.03553343e-01, -1.06867116e-01, -1.10170702e-01],\n",
      "       [ 0.00000000e+00, -2.15439900e-12, -1.72364519e-11, ...,\n",
      "        -1.67108462e+00, -1.67440258e+00, -1.67771037e+00],\n",
      "       [ 0.00000000e+00, -6.46330294e-09, -2.58556954e-08, ...,\n",
      "        -3.32294845e+00, -3.31292997e+00, -3.30259587e+00]])\n",
      " y_events: None\n"
     ]
    },
    {
     "data": {
      "image/png": "[encoded data removed]",
      "text/plain": [
       "<Figure size 432x288 with 1 Axes>"
      ]
     },
     "metadata": {
      "needs_background": "light"
     },
     "output_type": "display_data"
    },
    {
     "data": {
      "image/png": "[encoded data removed]",
      "text/plain": [
       "<Figure size 432x288 with 1 Axes>"
      ]
     },
     "metadata": {
      "needs_background": "light"
     },
     "output_type": "display_data"
    },
    {
     "data": {
      "image/png": "[encoded data removed]",
      "text/plain": [
       "<Figure size 432x288 with 1 Axes>"
      ]
     },
     "metadata": {
      "needs_background": "light"
     },
     "output_type": "display_data"
    },
    {
     "data": {
      "image/png": "[encoded data removed]",
      "text/plain": [
       "<Figure size 432x288 with 1 Axes>"
      ]
     },
     "metadata": {
      "needs_background": "light"
     },
     "output_type": "display_data"
    },
    {
     "name": "stdout",
     "output_type": "stream",
     "text": [
      "30000 (30000, 6)\n"
     ]
    }
   ],
   "source": [
    "#genero los datos:\n",
    "x_train, x_dot_train = calculate_data(t_max=max_time, dt=paso_tiempo)\n"
   ]
  },
  {
   "cell_type": "code",
   "execution_count": 14,
   "metadata": {},
   "outputs": [
    {
     "name": "stdout",
     "output_type": "stream",
     "text": [
      "[[ 1.00000000e+00  1.00000000e+00  1.00000000e+00  0.00000000e+00\n",
      "   0.00000000e+00  0.00000000e+00]\n",
      " [ 1.00100000e+00  9.99995097e-01  1.00004806e+00  9.80543684e-03\n",
      "  -2.15439900e-12 -6.46330294e-09]\n",
      " [ 1.00200000e+00  9.99980388e-01  1.00019230e+00  1.96089883e-02\n",
      "  -1.72364519e-11 -2.58556954e-08]\n",
      " ...\n",
      " [ 6.79842020e+01 -3.43627514e+04  5.16867095e+02 -1.88398580e-01\n",
      "  -1.75879768e+00  4.25891384e-01]\n",
      " [ 6.79844068e+01 -3.43632683e+04  5.16868119e+02 -1.87937304e-01\n",
      "  -1.75833841e+00  4.92162109e-01]\n",
      " [ 6.79846105e+01 -3.43637852e+04  5.16869142e+02 -1.87410066e-01\n",
      "  -1.75781310e+00  5.58257668e-01]]\n",
      "(100000, 6)\n",
      "[[ 1.00000000e+00  0.00000000e+00 -3.28908312e-05 -1.31822557e-03\n",
      "   0.00000000e+00  0.00000000e+00]\n",
      " [ 9.99999988e-01 -9.80575099e-03  9.61569001e-02 -9.74616171e-02\n",
      "  -6.46330294e-09  9.80637943e-03]\n",
      " [ 1.00000002e+00 -1.96115024e-02  1.92318945e-01 -1.93549315e-01\n",
      "  -2.58556954e-08  3.92330617e-02]\n",
      " ...\n",
      " [ 2.05311681e-01 -5.16867055e+02  1.02316122e+00  4.29013414e-01\n",
      "   4.25891384e-01 -5.03294712e+09]\n",
      " [ 2.04278270e-01 -5.16868078e+02  1.02312644e+00  4.95208460e-01\n",
      "   4.92162109e-01 -5.02069449e+09]\n",
      " [ 2.03282779e-01 -5.16869102e+02  1.02309167e+00  5.61227286e-01\n",
      "   5.58257668e-01 -5.00667937e+09]]\n",
      "(100000, 6)\n"
     ]
    }
   ],
   "source": [
    "print(x_train)\n",
    "print(x_train.shape)\n",
    "print(x_dot_train)\n",
    "print(x_dot_train.shape)"
   ]
  },
  {
   "cell_type": "code",
   "execution_count": 22,
   "metadata": {},
   "outputs": [
    {
     "name": "stdout",
     "output_type": "stream",
     "text": [
      "x' = 0.6698 1\n",
      "y' = -1.0000 v\n",
      "v' = -27.4280 sen(alfa) + -15.1245 sen(theta) + -14.1994 cos(alfa) + 28.8175 cos(theta) + -95.8582 1 + 39.9225 x + 41.5509 v + 83.7476 alfa + -48.2872 theta + -5.1702 theta' + -25.0960 x alfa + 25.0617 x theta + -26.5109 v alfa + 26.4854 v theta + -22.8370 alfa^2 + 23.4907 alfa theta + 3.6601 alfa theta' + -3.6540 theta theta'\n",
      "alfa' = 4.0335 sen(alfa) + -1.9642 sen(theta) + -1.5906 cos(alfa) + -4.2940 cos(theta) + -0.9451 1 + 6.9537 x + 0.1830 v + -13.8462 alfa + 0.9877 theta' + -4.4218 x alfa + 4.4177 x theta + -0.1175 v alfa + 0.1173 v theta + 9.1342 alfa^2 + -8.9859 alfa theta + 0.0145 alfa theta' + -0.0148 theta theta'\n",
      "theta' = 1.0000 theta'\n",
      "theta'' = -359719.0231 sen(x) + 200194.5566 sen(y) + -374561.0880 sen(v) + -2898164593.8089 sen(alfa) + -9900959942.1564 sen(theta) + -428815.1638 sen(theta') + 219937.1737 cos(x) + 11761.8758 cos(y) + 639662.8584 cos(v) + -9958116289.2024 cos(alfa) + 2962746294.3578 cos(theta) + -696456.6154 cos(theta') + 141593264764.2965 1 + -116343715876.2219 x + -305498164.7870 y + -18101031337.1873 v + -70116015215.5314 alfa + 93647973796.8001 theta + -3191050110.0940 theta' + 270022645.0524 x^2 + 1648326.9461 x y + -152694074.8041 x v + 73287125274.6012 x alfa + -71663670230.5966 x theta + -2991169.4529 x theta' + -186.2356 y^2 + -148561.3650 y v + 128153725.1590 y alfa + -128042900.1301 y theta + -2570.4946 y theta' + 7352079.2206 v^2 + 11672580429.5477 v alfa + -11814348486.2246 v theta + 301418.3535 v theta' + -4695411622.9324 alfa^2 + -6892847235.5485 alfa theta + 1763987366.9761 alfa theta' + 11602643456.8076 theta^2 + -1755216767.6574 theta theta' + -82922.8225 theta'^2\n"
     ]
    }
   ],
   "source": [
    "#intento predecir con sindy:\n",
    "model = sindy_model(x_train, x_dot_train, dt=paso_tiempo)"
   ]
  },
  {
   "cell_type": "code",
   "execution_count": 16,
   "metadata": {},
   "outputs": [
    {
     "data": {
      "text/plain": [
       "False"
      ]
     },
     "execution_count": 16,
     "metadata": {},
     "output_type": "execute_result"
    }
   ],
   "source": [
    "np.any(np.isnan(x_dot_train))"
   ]
  },
  {
   "cell_type": "code",
   "execution_count": 17,
   "metadata": {},
   "outputs": [
    {
     "data": {
      "text/plain": [
       "True"
      ]
     },
     "execution_count": 17,
     "metadata": {},
     "output_type": "execute_result"
    }
   ],
   "source": [
    "np.all(np.isfinite(x_dot_train))"
   ]
  },
  {
   "cell_type": "code",
   "execution_count": 18,
   "metadata": {},
   "outputs": [
    {
     "data": {
      "text/plain": [
       "False"
      ]
     },
     "execution_count": 18,
     "metadata": {},
     "output_type": "execute_result"
    }
   ],
   "source": [
    "np.any(x_dot_train > np.finfo(np.float64).max)"
   ]
  },
  {
   "cell_type": "code",
   "execution_count": 19,
   "metadata": {},
   "outputs": [
    {
     "data": {
      "text/plain": [
       "0"
      ]
     },
     "execution_count": 19,
     "metadata": {},
     "output_type": "execute_result"
    }
   ],
   "source": [
    "np.isnan(x_train).sum()"
   ]
  },
  {
   "cell_type": "code",
   "execution_count": 20,
   "metadata": {},
   "outputs": [
    {
     "data": {
      "text/plain": [
       "1.0"
      ]
     },
     "execution_count": 20,
     "metadata": {},
     "output_type": "execute_result"
    }
   ],
   "source": [
    "x_train[:, 2].min()"
   ]
  },
  {
   "cell_type": "code",
   "execution_count": 21,
   "metadata": {},
   "outputs": [
    {
     "data": {
      "text/plain": [
       "-3.2890831226464076e-05"
      ]
     },
     "execution_count": 21,
     "metadata": {},
     "output_type": "execute_result"
    }
   ],
   "source": [
    "x_dot_train[:, 2].min()"
   ]
  },
  {
   "cell_type": "code",
   "execution_count": null,
   "metadata": {},
   "outputs": [],
   "source": []
  }
 ],
 "metadata": {
  "kernelspec": {
   "display_name": "Python 3",
   "language": "python",
   "name": "python3"
  },
  "language_info": {
   "codemirror_mode": {
    "name": "ipython",
    "version": 3
   },
   "file_extension": ".py",
   "mimetype": "text/x-python",
   "name": "python",
   "nbconvert_exporter": "python",
   "pygments_lexer": "ipython3",
   "version": "3.8.5"
  }
 },
 "nbformat": 4,
 "nbformat_minor": 4
}
