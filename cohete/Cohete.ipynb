{
 "cells": [
  {
   "cell_type": "code",
   "execution_count": null,
   "metadata": {},
   "outputs": [],
   "source": [
    "import numpy as np\n",
    "import matplotlib.pyplot as plt\n",
    "from mpl_toolkits.mplot3d import Axes3D\n",
    "from scipy.integrate import odeint\n",
    "from scipy.integrate import solve_ivp\n",
    "import pysindy as ps\n",
    "import math\n",
    "from math import pi"
   ]
  },
  {
   "cell_type": "markdown",
   "metadata": {},
   "source": [
    "Variables globales:"
   ]
  },
  {
   "cell_type": "code",
   "execution_count": null,
   "metadata": {},
   "outputs": [],
   "source": [
    "def coefs_ecs(p_c):\n",
    "    coefs = {\n",
    "        'A': p_c['T']/p_c['m'],\n",
    "        'B': (pi*p_c['rho']*p_c['cd0']*(p_c['d']**2))/(8*p_c['m']),\n",
    "        'C': p_c['g'],\n",
    "        'D': (1-pi*p_c['rho']*(p_c['d']**3)*p_c['cntp']/(16*p_c['m']))/(1+pi*p_c['rho']*(p_c['d']**3)*p_c['cnap']/(16*p_c['m'])),\n",
    "        'E': (pi*p_c['rho']*(p_c['d']**2)*p_c['cna']/(16*p_c['m']))/(1+pi*p_c['rho']*(p_c['d']**3)*p_c['cnap']/(16*p_c['m'])),\n",
    "        'F': (p_c['T'])/(p_c['m']+pi*p_c['rho']*(p_c['d']**3)*p_c['cnap']/(16)),\n",
    "        'G': p_c['g']/(1+pi*p_c['rho']*(p_c['d']**3)*p_c['cnap']/(16*p_c['m'])),\n",
    "        'H': (pi*p_c['rho']*(p_c['d']**3)*p_c['cma'])/(8*p_c['Iy']),\n",
    "        'I': (pi*p_c['rho']*(p_c['d']**4)*p_c['cmtp'])/(16*p_c['Iy']),\n",
    "        'J': (pi*p_c['rho']*(p_c['d']**4)*p_c['cmap'])/(16*p_c['Iy'])\n",
    "    }\n",
    "    return coefs"
   ]
  },
  {
   "cell_type": "code",
   "execution_count": null,
   "metadata": {},
   "outputs": [],
   "source": [
    "#que son los coeficiente del cn??????????? \n",
    "paso_tiempo=0.001\n",
    "max_time = 30.0\n",
    "\n",
    "#parametros fisicos del cohete:\n",
    "param_cohe = {\n",
    "    'T': 29160, #empuje\n",
    "    'm': 77.4, #masa\n",
    "    'rho': 1.225, #densidad\n",
    "    'd': 0.14, #diametro\n",
    "    'cntp': 67.934021, #cntheta'\n",
    "    'cnap': 50.813892,#cn alfa'\n",
    "    'cna': 0.415000,#cnalfa\n",
    "    'Iy': 35.63,#inercia en el eje y\n",
    "    'cma': -35.581600,#cm alfa\n",
    "    'cmtp': 60.934021,#cm theta'\n",
    "    'cmap': -225.731250,#cm alfa'\n",
    "    'cd0': 0.270000,#fallo en el pdf???????????????????? \n",
    "    'g': 9.81, #gravedad\n",
    "}\n",
    "\n",
    "#coeficientes de las ecuaciones del cohete 2D:\n",
    "coefs = coefs_ecs(param_cohe)\n",
    "\n",
    "#valores iniciales:\n",
    "inicial_values = {\n",
    "    'x': 1.,\n",
    "    'y': 1.,\n",
    "    'vel': 0.1,\n",
    "    'alfa': 0,\n",
    "    'theta': 0, #40 grados\n",
    "    'theta_dot': 0 \n",
    "}\n",
    " #x,y,v, alfa, theta, theta'"
   ]
  },
  {
   "cell_type": "markdown",
   "metadata": {},
   "source": [
    "Las incógnitas son theta, alfa, V, theta prima y alfa prima. Ecuaciones a modelar:"
   ]
  },
  {
   "cell_type": "code",
   "execution_count": null,
   "metadata": {},
   "outputs": [],
   "source": [
    "def eqs(t_train, x0_train, a=coefs['A'], b=coefs['B'], c=coefs['C'], d=coefs['D'], e=coefs['E'], f=coefs['F'], \n",
    "        g=coefs['G'],h=coefs['H'], i=coefs['I'], jota=coefs['J']):\n",
    "    \n",
    "    x0, y0, v0, alfa0, theta0, u0 = x0_train\n",
    "    \n",
    "    vel_dot = a*math.cos(alfa0) - b*v0**2 - c*math.sin(theta0-alfa0)\n",
    "    alfa_dot = d*u0 - e*v0*alfa0 - f*math.sin(alfa0)*1/v0 + g*math.cos(theta0 - alfa0)*1/v0\n",
    "    theta_dot_dot = h*alfa0*v0**2 + i*v0*u0 + jota*v0*alfa_dot\n",
    "    \n",
    "    x_dot = v0*math.cos(theta0-alfa0)\n",
    "    y_dot = v0*math.sin(theta0-alfa0)\n",
    "    \n",
    "    theta_dot = u0\n",
    "    return x_dot, y_dot, vel_dot, alfa_dot, theta_dot, theta_dot_dot"
   ]
  },
  {
   "cell_type": "code",
   "execution_count": null,
   "metadata": {},
   "outputs": [],
   "source": [
    "#x0_train = [x, y, v, alfa, theta, theta']\n",
    "def calculate_data(t_max=max_time, dt=paso_tiempo, \n",
    "                    a=coefs['A'], b=coefs['B'], c=coefs['C'], d=coefs['D'], e=coefs['E'], f=coefs['F'], \n",
    "                    g=coefs['G'], h=coefs['H'], i=coefs['I'], jota=coefs['J'],\n",
    "                    x0_train=[inicial_values['x'], inicial_values['y'], inicial_values['vel'], \n",
    "                              inicial_values['alfa'], inicial_values['theta'], inicial_values['theta_dot']]):\n",
    "    \n",
    "    t_train = np.arange(0.0, t_max, dt)\n",
    "    \n",
    "    #sol = np.ones((t_train.size, 5))\n",
    "    print(t_train[0], t_train[-1])\n",
    "    \n",
    "    x_sol = solve_ivp(eqs, (t_train[0], t_train[-1]), x0_train, args=(a,b,c,d,e,f,g,h,i,jota), t_eval=t_train) \n",
    "    #[x, y, v, alfa, theta, theta']\n",
    "    print(x_sol)\n",
    "    \n",
    "    x_dot_train_measured = np.ones((t_train.size, 6)) #contiene, x',y',v',alfa',theta''\n",
    "    \n",
    "   \n",
    "    fig = plt.figure()\n",
    "    #ax = fig.gca(projection='2d')\n",
    "\n",
    "    plt.plot(x_sol.t, x_sol.y.T[:, 0], lw=0.5)\n",
    "    plt.xlabel(\"tiempo\")\n",
    "    plt.ylabel(\"posicion en x\")\n",
    "    plt.title(\"Trayectoria en x\")\n",
    "\n",
    "    plt.show()\n",
    "    \n",
    "    fig = plt.figure()\n",
    "    #ax = fig.gca(projection='2d')\n",
    "\n",
    "    plt.plot(x_sol.t, x_sol.y.T[:, 1], lw=0.5)\n",
    "    plt.xlabel(\"tiempo\")\n",
    "    plt.ylabel(\"posicion y\")\n",
    "    plt.title(\"Trayectoria en y\")\n",
    "\n",
    "    plt.show()\n",
    "    \n",
    "    fig = plt.figure()\n",
    "    #ax = fig.gca(projection='2d')\n",
    "\n",
    "    plt.plot(x_sol.y.T[:, 0], x_sol.y.T[:, 1], lw=0.5)\n",
    "    plt.xlabel(\"tiempo\")\n",
    "    plt.ylabel(\"posicion y\")\n",
    "    plt.title(\"posicion x frente a y\")\n",
    "\n",
    "    plt.show()\n",
    "   \n",
    "    plt.plot(x_sol.t, x_sol.y.T)\n",
    "    plt.legend([\"x\", \"y\", \"v\", \"alfa\", \"theta\", \"theta'\"])\n",
    "    plt.show()\n",
    "    print(t_train.size, x_sol.y.T.shape)\n",
    "    for i in range(t_train.size):\n",
    "        x_dot_train_measured[i, :] = eqs(t_train, x_sol.y.T[i, :], a,b,c,d,f,g,h,i,jota)\n",
    "\n",
    "    \n",
    "    \n",
    "    \n",
    "    return x_sol.y.T, x_dot_train_measured"
   ]
  },
  {
   "cell_type": "markdown",
   "metadata": {},
   "source": [
    "Defino mi propia librería de funciones:"
   ]
  },
  {
   "cell_type": "code",
   "execution_count": null,
   "metadata": {},
   "outputs": [],
   "source": [
    "def custom_library(poly_order=2):\n",
    "    library_functions = [\n",
    "        lambda theta, alfa : np.cos(theta-alfa),\n",
    "        lambda theta, alfa : np.sin(theta-alfa),\n",
    "        lambda alfa : np.sin(alfa),\n",
    "        lambda alfa : np.cos(alfa),\n",
    "        #lambda v: v**2,\n",
    "        lambda v, alfa: np.sin(alfa)/v \n",
    "    ]\n",
    "    library_function_names = [\n",
    "        lambda theta, alfa : 'cos(' + theta + '-' + alfa +')',\n",
    "        lambda theta, alfa : 'sen(' + theta + '-' + alfa +')',\n",
    "        lambda alfa : 'sen('  + alfa +')',\n",
    "        lambda alfa : 'cos('  + alfa +')',\n",
    "        #lambda v: v + '^2',\n",
    "        lambda v, alfa: 'sen(' + alfa + ')/' + v \n",
    "    ]\n",
    "    library = ps.CustomLibrary(\n",
    "                        library_functions=library_functions, \n",
    "                        function_names=library_function_names) + ps.PolynomialLibrary(degree=poly_order)\n",
    "    return library"
   ]
  },
  {
   "cell_type": "code",
   "execution_count": null,
   "metadata": {},
   "outputs": [],
   "source": [
    "def custom_library2(poly_order=2):\n",
    "    library_functions = [\n",
    "        lambda theta, alfa : np.cos(theta-alfa),\n",
    "        #lambda theta, alfa, v : v*np.cos(theta-alfa),\n",
    "        lambda theta, alfa, v : np.cos(theta-alfa)*1./v,\n",
    "        lambda theta, alfa : np.sin(theta-alfa),\n",
    "        #lambda theta, alfa, v : v*np.sin(theta-alfa),\n",
    "        lambda alfa : np.sin(alfa),\n",
    "        lambda alfa, v : np.sin(alfa)*1./v,\n",
    "        lambda alfa : np.cos(alfa),\n",
    "        lambda v: 1./v,\n",
    "        \n",
    "    ]\n",
    "    library_function_names = [\n",
    "        lambda theta, alfa : 'cos(' + theta + '-' + alfa +')',\n",
    "        #lambda theta, alfa, v : v + '*' + 'cos(' + theta + '-' + alfa +')',\n",
    "        lambda theta, alfa, v : 'cos(' + theta + '-' + alfa +')/' + v,\n",
    "        lambda theta, alfa : 'sen(' + theta + '-' + alfa +')',\n",
    "        #lambda theta, alfa, v : v + '*' + 'sen(' + theta + '-' + alfa +')',\n",
    "        lambda alfa : 'sen('  + alfa +')',\n",
    "        lambda alfa, v : 'sen('  + alfa +')/' + v,\n",
    "        lambda alfa : 'cos('  + alfa +')',\n",
    "        lambda v :  '1/' + v,\n",
    "        \n",
    "    ]\n",
    "    library = ps.CustomLibrary(\n",
    "                        library_functions=library_functions, \n",
    "                        function_names=library_function_names) + ps.PolynomialLibrary(degree=poly_order)\n",
    "    return library"
   ]
  },
  {
   "cell_type": "code",
   "execution_count": null,
   "metadata": {},
   "outputs": [],
   "source": [
    "def sindy_model(x_train, x_dot_train, threshold = 0.2, terminos_ctes=False, dt=paso_tiempo):\n",
    "    # Fit the model, me creo el modelo dinámico \n",
    "\n",
    "    #pysindy calcula las ecs que gobierna el movimiento\n",
    "    model = ps.SINDy(\n",
    "        optimizer=ps.STLSQ(threshold=threshold, normalize=True,  fit_intercept=terminos_ctes),\n",
    "        feature_library=custom_library(),#interaction_only=terminos_ctes,\n",
    "                                                         \n",
    "        feature_names=['x', 'y', 'v', 'alfa', 'theta', \"theta'\"],\n",
    "    )\n",
    "\n",
    "    #la doc dice que en t hay que poner el time step\n",
    "    model.fit(x_train, t=dt, x_dot=x_dot_train, quiet=True)\n",
    "\n",
    "    #print(model.equations(precision=52))\n",
    "    model.print(precision=4)\n",
    "    #print(model.coefficients())\n",
    "    return model"
   ]
  },
  {
   "cell_type": "markdown",
   "metadata": {},
   "source": [
    "Genero los datos:"
   ]
  },
  {
   "cell_type": "code",
   "execution_count": null,
   "metadata": {},
   "outputs": [],
   "source": [
    "x_train, x_dot_train = calculate_data()\n",
    "print(x_train)\n",
    "print(x_train.shape)\n",
    "\n"
   ]
  },
  {
   "cell_type": "code",
   "execution_count": null,
   "metadata": {},
   "outputs": [],
   "source": [
    "model = sindy_model(x_train, x_dot_train)"
   ]
  },
  {
   "cell_type": "code",
   "execution_count": null,
   "metadata": {},
   "outputs": [],
   "source": [
    "a = np.arange(0.0, max_time, paso_tiempo)\n",
    "print(a.shape)"
   ]
  },
  {
   "cell_type": "markdown",
   "metadata": {},
   "source": [
    "## Trayectoria:"
   ]
  },
  {
   "cell_type": "code",
   "execution_count": null,
   "metadata": {},
   "outputs": [],
   "source": [
    "print(coefs)"
   ]
  },
  {
   "cell_type": "code",
   "execution_count": null,
   "metadata": {},
   "outputs": [],
   "source": []
  }
 ],
 "metadata": {
  "kernelspec": {
   "display_name": "Python 3",
   "language": "python",
   "name": "python3"
  },
  "language_info": {
   "codemirror_mode": {
    "name": "ipython",
    "version": 3
   },
   "file_extension": ".py",
   "mimetype": "text/x-python",
   "name": "python",
   "nbconvert_exporter": "python",
   "pygments_lexer": "ipython3",
   "version": "3.8.5"
  }
 },
 "nbformat": 4,
 "nbformat_minor": 4
}
