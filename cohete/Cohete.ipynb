{
 "cells": [
  {
   "cell_type": "code",
   "execution_count": 1,
   "metadata": {},
   "outputs": [],
   "source": [
    "import numpy as np\n",
    "import matplotlib.pyplot as plt\n",
    "from mpl_toolkits.mplot3d import Axes3D\n",
    "from scipy.integrate import odeint\n",
    "import pysindy as ps\n",
    "import math"
   ]
  },
  {
   "cell_type": "markdown",
   "metadata": {},
   "source": [
    "Variables globales:"
   ]
  },
  {
   "cell_type": "code",
   "execution_count": 12,
   "metadata": {},
   "outputs": [],
   "source": [
    "paso_tiempo=0.001\n",
    "max_time = 40.0\n",
    "coefs = {'A': 5,\n",
    "               'B': 10,\n",
    "               'C': 15,\n",
    "               'D': 2,\n",
    "               'E': 6,\n",
    "               'F': 3,\n",
    "               'G': 1,\n",
    "               'H': 9,\n",
    "               'I': 8,\n",
    "               'J': 7}\n",
    "inicial_values = {'theta': 5,\n",
    "                 'alfa': 7,\n",
    "                 'vel': 4,\n",
    "                 'theta_dot': 3,\n",
    "                 'alfa_dot': 2}"
   ]
  },
  {
   "cell_type": "markdown",
   "metadata": {},
   "source": [
    "Las incógnitas son theta, alfa, V, theta prima y alfa prima. Ecuaciones a modelar:"
   ]
  },
  {
   "cell_type": "code",
   "execution_count": 14,
   "metadata": {},
   "outputs": [],
   "source": [
    "def eqs(a=coefs['A'], b=coefs['B'], c=coefs['C'], d=coefs['D'], e=coefs['E'], f=coefs['F'], g=coefs['G'],\n",
    "           h=coefs['H'], i=coefs['I'], j=coefs['J'], theta0=inicial_values['theta'], alfa0=inicial_values['alfa'],\n",
    "           vel0=inicial_values['vel'], theta_dot0=inicial_values['theta_dot'], alfa_dot0=inicial_values['alfa_dot']):\n",
    "    \n",
    "    vel_dot = a*math.cos(alfa0) - b*v**2 - c*math.sin(theta0-alfa0)\n",
    "    alfa_dot = d*theta_dot0 - e*v*alfa0 - f*math.sin(alfa0)*1/v + g*math.cos(theta0 - alfa0)*1/v\n",
    "    theta_dot_dot = h*alfa0*v**2 + i*v*theta_dot0 + j*v*alfa_dot0\n",
    "    \n",
    "    x_dot = v*math.cos(theta0-alfa0)\n",
    "    y_dot = v*math.sin(theta0-alfa0)\n",
    "    return vel_dot, alfa_dot, theta_dot_dot, x_dot, y_dot"
   ]
  },
  {
   "cell_type": "code",
   "execution_count": 18,
   "metadata": {},
   "outputs": [],
   "source": [
    "def calculate_data(t_max =max_time, dt =paso_tiempo, a=coefs['A'], b=coefs['B'], c=coefs['C'], d=coefs['D'], e=coefs['E'], f=coefs['F'], g=coefs['G'],\n",
    "           h=coefs['H'], i=coefs['I'], j=coefs['J'], theta0=inicial_values['theta'], alfa0=inicial_values['alfa'],\n",
    "           vel0=inicial_values['vel'], theta_dot0=inicial_values['theta_dot'], alfa_dot0=inicial_values['alfa_dot']):\n",
    "    \n",
    "    t_train = np.arange(0.0, t_max, dt)\n",
    "          \n",
    "    #odeint resuelve edos dado en el primer argumento la funcion que devuelve las ecuaciones dx/dt = ...\n",
    "    x_train = odeint(eqs, x0_train, t_train, args=(a,b,c,d,e,f,g,h,i,j)) \n",
    "\n",
    "    x_dot_train_measured = np.ones((t_train.size, 5))\n",
    "    for i in range(t_train.size):\n",
    "        x_dot_train_measured[i] = eqs(x_train[i], t_train, a,b,c,d,f,g,h,i,j)\n",
    "\n",
    "\n",
    "    fig = plt.figure()\n",
    "    ax = fig.gca(projection='2d')\n",
    "\n",
    "    ax.plot(x_train[:, 0], x_train[:, 1], lw=0.5)\n",
    "    ax.set_xlabel(\"X Axis\")\n",
    "    ax.set_ylabel(\"Y Axis\")\n",
    "    ax.set_title(\"Trayectoria\")\n",
    "\n",
    "    plt.show()\n",
    "    \n",
    "    return x_train, x_dot_train_measured"
   ]
  },
  {
   "cell_type": "code",
   "execution_count": 4,
   "metadata": {},
   "outputs": [],
   "source": [
    "def sindy_model(x_train, x_dot_train, poly_order = 4, threshold = 0.2, terminos_ctes=False, dt=paso_tiempo):\n",
    "    # Fit the model, me creo el modelo dinámico \n",
    "\n",
    "     #orden 3 y 4 es el que mejor lo hace\n",
    "    \n",
    "\n",
    "    #pysindy calcula las ecs que gobierna el movimiento\n",
    "    model = ps.SINDy(\n",
    "        optimizer=ps.STLSQ(threshold=threshold, normalize=True,  fit_intercept=terminos_ctes),\n",
    "        feature_library=ps.PolynomialLibrary(degree=poly_order, ),#interaction_only=terminos_ctes,\n",
    "                                                         \n",
    "        feature_names=['x', 'y', 'z'],\n",
    "    )\n",
    "\n",
    "    #la doc dice que en t hay que poner el time step\n",
    "    model.fit(x_train, t=dt, x_dot=x_dot_train, quiet=True)\n",
    "\n",
    "    #print(model.equations(precision=52))\n",
    "    model.print(precision=4)\n",
    "    #print(model.coefficients())\n",
    "    return model"
   ]
  },
  {
   "cell_type": "markdown",
   "metadata": {},
   "source": [
    "Genero los datos:"
   ]
  },
  {
   "cell_type": "code",
   "execution_count": null,
   "metadata": {},
   "outputs": [],
   "source": [
    "x_train, x_dot_train = calculate_data()\n",
    "model = sindy_model(x_train, x_dot_train)\n"
   ]
  }
 ],
 "metadata": {
  "kernelspec": {
   "display_name": "Python 3",
   "language": "python",
   "name": "python3"
  },
  "language_info": {
   "codemirror_mode": {
    "name": "ipython",
    "version": 3
   },
   "file_extension": ".py",
   "mimetype": "text/x-python",
   "name": "python",
   "nbconvert_exporter": "python",
   "pygments_lexer": "ipython3",
   "version": "3.8.5"
  }
 },
 "nbformat": 4,
 "nbformat_minor": 4
}
